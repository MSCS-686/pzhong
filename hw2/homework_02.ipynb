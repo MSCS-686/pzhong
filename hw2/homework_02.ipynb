{
 "cells": [
  {
   "cell_type": "markdown",
   "metadata": {},
   "source": [
    "# Homework Assignment #2"
   ]
  },
  {
   "cell_type": "markdown",
   "metadata": {},
   "source": [
    "*due Tuesday, February 12, 2019 by 11:59pm*\n",
    "\n",
    "This homework is worth **10 points** [100%], there are no bonus points questions, however, up to 1 bonus point may be given for **clearly written code** (provided that the code is correct)."
   ]
  },
  {
   "cell_type": "markdown",
   "metadata": {},
   "source": [
    "### n.b.\n",
    "All deliverables are required to be typed and all graphs and statistical output generated in Jupyter Notebook using Python and associated packages. Deliverables with *any* handwritten elements will not be accepted and will receive a grade of zero. \n",
    "\n",
    "Similarly to `hw1` copy the whole directory `hw2` to your own private repository (**use the same one as for `hw1`**)."
   ]
  },
  {
   "cell_type": "code",
   "execution_count": 1,
   "metadata": {},
   "outputs": [],
   "source": [
    "import numpy as np\n",
    "import pandas as pd\n",
    "from scipy.linalg import eigh\n",
    "from scipy.stats import norm\n",
    "import matplotlib.pyplot as plt\n",
    "%matplotlib inline"
   ]
  },
  {
   "cell_type": "markdown",
   "metadata": {},
   "source": [
    "## Part 1: Linear Regression - the closed form solution [total of 15%]"
   ]
  },
  {
   "cell_type": "markdown",
   "metadata": {},
   "source": [
    "***DO NOT USE ANY REGRESSION FUNCTIONS OR REGRESSION PACKAGES FOR THIS PROBLEM***"
   ]
  },
  {
   "cell_type": "markdown",
   "metadata": {},
   "source": [
    "### Data for Part 1:\n",
    "Suggested steps:\n",
    "* Read the [housing data](https://s3-us-west-1.amazonaws.com/usfca-cs686-ml/hw1/housing.csv) used in `hw1`\n",
    "* Use the column \"`GrLivArea`\" as your independent variable and \"`SalePrice`\" as your dependent variable. (You can safely disregard the rest of the dataset)"
   ]
  },
  {
   "cell_type": "code",
   "execution_count": 18,
   "metadata": {},
   "outputs": [],
   "source": [
    "df = pd.read_csv(\"../hw1/data/housing.csv\").loc[:, ['GrLivArea','SalePrice']]"
   ]
  },
  {
   "cell_type": "markdown",
   "metadata": {},
   "source": [
    "#### Find estimates for $\\beta_0$ and $\\beta_1$"
   ]
  },
  {
   "cell_type": "markdown",
   "metadata": {},
   "source": [
    "$b_1 = \\frac{\\sum_{i=1}^n(x_i - \\overline{x})(y_i - \\overline{y})}{\\sum_{i=1}^n(x_i - \\overline{x})^2}$"
   ]
  },
  {
   "cell_type": "code",
   "execution_count": 20,
   "metadata": {},
   "outputs": [
    {
     "data": {
      "text/plain": [
       "107.13035896582517"
      ]
     },
     "execution_count": 20,
     "metadata": {},
     "output_type": "execute_result"
    }
   ],
   "source": [
    "x = df[\"GrLivArea\"].mean()\n",
    "y = df[\"SalePrice\"].mean()\n",
    "b1 = ((df[\"GrLivArea\"] - x)*(df[\"SalePrice\"] - y)).sum() / ((df[\"GrLivArea\"] - x)**2).sum()\n",
    "b1"
   ]
  },
  {
   "cell_type": "markdown",
   "metadata": {},
   "source": [
    "$b_0 = \\overline{y} - b_1\\overline{x}$"
   ]
  },
  {
   "cell_type": "code",
   "execution_count": 21,
   "metadata": {},
   "outputs": [
    {
     "data": {
      "text/plain": [
       "18569.02585648728"
      ]
     },
     "execution_count": 21,
     "metadata": {},
     "output_type": "execute_result"
    }
   ],
   "source": [
    "b0 = y - b1*x\n",
    "b0"
   ]
  },
  {
   "cell_type": "markdown",
   "metadata": {},
   "source": [
    "#### Find $R^2$"
   ]
  },
  {
   "cell_type": "markdown",
   "metadata": {},
   "source": [
    "$R^2 = (\\frac{s_{xy}}{s_x s_y})^2 = (\\frac{\\sum_{i=1}^n(x_i - \\overline{x})(y_i - \\overline{y})}{(n-1)s_x s_y})^2 = \\frac{(\\sum_{i=1}^n(x_i - \\overline{x})(y_i - \\overline{y}))^2}{\\sum_{i=1}^n(x_i - \\overline{x})^2 \\sum_{i=1}^n(y_i - \\overline{y})^2}$"
   ]
  },
  {
   "cell_type": "code",
   "execution_count": 23,
   "metadata": {},
   "outputs": [
    {
     "data": {
      "text/plain": [
       "0.502148650271804"
      ]
     },
     "execution_count": 23,
     "metadata": {},
     "output_type": "execute_result"
    }
   ],
   "source": [
    "rs = (((df[\"GrLivArea\"] - x)*(df[\"SalePrice\"] - y)).sum())**2 \\\n",
    "    / (((df[\"GrLivArea\"] - x)**2).sum() * ((df[\"SalePrice\"] - y)**2).sum())\n",
    "rs"
   ]
  },
  {
   "cell_type": "markdown",
   "metadata": {},
   "source": [
    "## Part 2: Linear Regression - the iterative solution [total of 35%]"
   ]
  },
  {
   "cell_type": "markdown",
   "metadata": {},
   "source": [
    "***YOU ARE ASKED TO CODE THE FOLLOWING EXERCISE FROM SCRATCH. DO NOT USE ANY PACKAGES FOR AUTOMATIC DIFFERENTIATION FOR THIS PROBLEM.***"
   ]
  },
  {
   "cell_type": "markdown",
   "metadata": {},
   "source": [
    "### <span style=\"color: #DA122C;\">**YOUR SOLUTION MUST WORK FOR ANY GIVEN NUMBER OF INDEPENDENT VARIABLES**</span>"
   ]
  },
  {
   "cell_type": "markdown",
   "metadata": {},
   "source": [
    "HINT: To make your implementation stand out, try implementing this question following a functional programming paradigm (i.e. define functions)"
   ]
  },
  {
   "cell_type": "code",
   "execution_count": 57,
   "metadata": {},
   "outputs": [],
   "source": [
    "## YOU WILL NEED THESE PARAMETERS ##\n",
    "# DO NOT CHANGE ANYTHING IN THIS CELL\n",
    "init_eta = 1e-4 # eta, gamma, learning rate or whatever you want to call it ¯\\_(ツ)_/¯\n",
    "num_iters = 100 # number of iterations\n",
    "n = 1000"
   ]
  },
  {
   "cell_type": "code",
   "execution_count": 58,
   "metadata": {},
   "outputs": [],
   "source": [
    "# DO NOT CHANGE ANYTHING IN THIS CELL\n",
    "np.random.seed(42)\n",
    "r = np.eye(int(np.sqrt(n)/3)-1)\n",
    "r += np.random.normal(0, 0.1, size=(r.shape[0],)*2)\n",
    "lams, A = eigh(r)\n",
    "c = np.dot(A, np.diag(np.sqrt(lams)))\n",
    "X = np.dot(c, norm.rvs(size=(r.shape[0], n))).transpose()\n",
    "Y = np.random.randn(r.shape[0]+1).dot(np.concatenate((X, np.ones((n,1))), axis=1).transpose()) + np.random.normal(0, 0.5, n)\n",
    "del r, lams, A, c"
   ]
  },
  {
   "cell_type": "code",
   "execution_count": 74,
   "metadata": {},
   "outputs": [],
   "source": [
    "# Start your solution here with data X and labels Y\n",
    "def gradientDescent(X, Y, eta, iters, num):\n",
    "    m = len(y)\n",
    "    t = np.ones(np.size(X,1))\n",
    "    for i in range(iters):\n",
    "        hypo = np.dot(X, t)\n",
    "        gradient = np.dot(X.transpose(), hypo - y) / m\n",
    "        t = t - eta * gradient\n",
    "        cost = np.sum((hypo - Y)**2) / (m*2)\n",
    "    return t, cost"
   ]
  },
  {
   "cell_type": "markdown",
   "metadata": {},
   "source": [
    "## Part 3: Theory [total of 50%]"
   ]
  },
  {
   "cell_type": "markdown",
   "metadata": {},
   "source": [
    "### Question 1"
   ]
  },
  {
   "cell_type": "markdown",
   "metadata": {},
   "source": [
    "In the SLR model, the probability distribution of $Y$ (i.e., $Y_i$) has the same mean and variance for all levels of $X$ (i.e., $X_i$). True or False? Explain."
   ]
  },
  {
   "cell_type": "markdown",
   "metadata": {
    "collapsed": true
   },
   "source": [
    "Answer:\n",
    "\n",
    "False, in the case of $\\beta_1 \\neq 0$, the probability distribution of $Y$ has the same variance $\\sigma^2$. However, the means are dependent on the value of $X$."
   ]
  },
  {
   "cell_type": "markdown",
   "metadata": {},
   "source": [
    "### Question 2"
   ]
  },
  {
   "cell_type": "markdown",
   "metadata": {},
   "source": [
    "The number of points above the fitted regression line is always equal to the number of points below it. True or False? Explain."
   ]
  },
  {
   "cell_type": "markdown",
   "metadata": {
    "collapsed": true
   },
   "source": [
    "Answer:\n",
    "\n",
    "False, "
   ]
  },
  {
   "cell_type": "markdown",
   "metadata": {},
   "source": [
    "### Question 3"
   ]
  },
  {
   "cell_type": "markdown",
   "metadata": {},
   "source": [
    "In a SLR model, what does $\\beta_1$ measure?  "
   ]
  },
  {
   "cell_type": "markdown",
   "metadata": {
    "collapsed": true
   },
   "source": [
    "Answer:\n",
    "\n",
    "$\\beta_1$ is measureing the slope of the regression function, and whether or not dependent variable $Y$ and independent variable $X$ are linear assotiated"
   ]
  },
  {
   "cell_type": "markdown",
   "metadata": {},
   "source": [
    "### Question 4"
   ]
  },
  {
   "cell_type": "markdown",
   "metadata": {},
   "source": [
    "In the context of an SLR model, prove the following:\n",
    "\n",
    "- $E[Y_i] = \\beta_0 + \\beta_1 X_i$ \n",
    "- $V(Y_i) = \\sigma^2 \\hspace{5pt} \\forall \\hspace{5pt} i$ "
   ]
  },
  {
   "cell_type": "markdown",
   "metadata": {
    "collapsed": true
   },
   "source": [
    "Answer:\n",
    "\n",
    "$Y_i = \\beta_0 + \\beta_1X_i + \\epsilon_i \\Longrightarrow E[Y_i] = E[\\beta_0 + \\beta_1X_i + \\epsilon_i]\n",
    "\\Longrightarrow  E[Y_i] = E[\\beta_0] + E[\\beta_1X_i] + E[\\epsilon_i]\n",
    "\\Longrightarrow E[Y_i] = \\beta_0 + \\beta_1E[X_i] + E[\\epsilon_i]$\n",
    "\n",
    "Since we know that $E[\\epsilon_i \\mid X_i] = 0$ and $X_i$ is a known constant\n",
    "\n",
    "we can conclude that $E[Y_i] = \\beta_0 + \\beta_1E[X_i] + E[\\epsilon_i] \\Longrightarrow \\beta_0 + \\beta_1X_i$"
   ]
  },
  {
   "cell_type": "markdown",
   "metadata": {},
   "source": [
    "$Y_i = \\beta_0 + \\beta_1X_i + \\epsilon_i \\Longrightarrow V[Y_i] = V[\\beta_0 + \\beta_1X_i + \\epsilon_i]\n",
    "\\Longrightarrow  V[Y_i] = V[\\beta_0] + V[\\beta_1X_i] + V[\\epsilon_i]\n",
    "\\Longrightarrow V[Y_i] = V[\\epsilon_i]$\n",
    "\n",
    "Since we know that $V[\\sigma_i \\mid X_i] = \\sigma^2 \\forall i$\n",
    "\n",
    "we can conclude that $V[Y_i] = V[\\epsilon_i] = \\sigma^2$"
   ]
  },
  {
   "cell_type": "markdown",
   "metadata": {},
   "source": [
    "### Question 5"
   ]
  },
  {
   "cell_type": "markdown",
   "metadata": {},
   "source": [
    "For the SLR model, $Y_i = \\beta_0 + \\beta_1 X_i + \\epsilon_i$, how many random variables are there. Explain."
   ]
  },
  {
   "cell_type": "markdown",
   "metadata": {
    "collapsed": true
   },
   "source": [
    "Answer:\n",
    "\n",
    "There 2 random variables. The First one is random term $\\epsilon_i$. And We Observe that response $Y_i$ is the sum of the constant term $\\beta_0 + \\beta_1X_i$ and $\\epsilon_i$, so $Y_i$ is also a random variable."
   ]
  },
  {
   "cell_type": "markdown",
   "metadata": {},
   "source": [
    "### Question 6"
   ]
  },
  {
   "cell_type": "markdown",
   "metadata": {},
   "source": [
    "Write out the normal error regression model and its assumptions (in English and math)."
   ]
  },
  {
   "cell_type": "markdown",
   "metadata": {
    "collapsed": true
   },
   "source": [
    "Answer:\n",
    "\n",
    "Normal error regression model: $Y_i = \\beta_0 + \\beta_1 X_i + \\epsilon_i$\n",
    "\n",
    "$Y_i$ is the value of response variable in the $i^th$ trial\n",
    "\n",
    "$\\beta_0$ and $\\beta_1$ are parameters: $\\beta_0$ is the $y$-intercept and $\\beta_1$ is the slop of regression function\n",
    "\n",
    "$X_i$ is a known constant, the value of the predictor variable in the $i^th$ trial\n",
    "\n",
    "$\\epsilon_i$ is a random error term that :\n",
    "- $E[\\epsilon_i \\mid X_i] = 0$\n",
    "- $V[\\epsilon_i \\mid X_i] = \\sigma^2 \\forall i$\n",
    "- $\\sigma[\\epsilon_i,\\epsilon_j \\mid X_i] = 0 \\forall i$,$j$; $i \\neq j$\n",
    "- $\\sigma[X_i, \\epsilon_i] = 0 \\forall i$\n",
    "- $\\epsilon_i$ ~ $N(0,\\sigma^2)$, $\\epsilon_i$ is normally distributed"
   ]
  },
  {
   "cell_type": "markdown",
   "metadata": {},
   "source": [
    "### Question 7"
   ]
  },
  {
   "cell_type": "markdown",
   "metadata": {},
   "source": [
    "What does a negative value of $\\beta_1$ indicate about the relation between $X$ and $Y$?"
   ]
  },
  {
   "cell_type": "markdown",
   "metadata": {},
   "source": [
    "$$ b_0 = \\frac{1}{n} \\Big( \\sum Y_i - b_1 \\sum X_i \\Big) $$\n",
    "$$ b_1 = \\frac{\\sum (X_i - \\bar{X})(Y_i - \\bar{Y})}{\\sum (X_i - \\bar{X})^2}$$"
   ]
  },
  {
   "cell_type": "markdown",
   "metadata": {
    "collapsed": true
   },
   "source": [
    "Answer:\n",
    "\n",
    "It indicate that X and Y are negatively corelated, which means when X increase 1 unite, we expect on average Y decrease $\\left|\\beta_1\\right|$"
   ]
  },
  {
   "cell_type": "markdown",
   "metadata": {},
   "source": [
    "### Question 8"
   ]
  },
  {
   "cell_type": "markdown",
   "metadata": {},
   "source": [
    "Are hypotheses tested concerning the actual values of the coefficients, e.g., $\\beta_1$, or their estimated values, e.g., $b_1$? Why?"
   ]
  },
  {
   "cell_type": "markdown",
   "metadata": {
    "collapsed": true
   },
   "source": [
    "Answer:\n",
    "\n",
    "Hypotheses test is concerning the actual values of the coefficients $\\beta_1$, since we want to examine whether or not there is any linear association between the dependent variable $Y$ and the independent variable $X$, which is determine by whether $\\beta_1 = 0$ "
   ]
  },
  {
   "cell_type": "markdown",
   "metadata": {},
   "source": [
    "### Question 9"
   ]
  },
  {
   "cell_type": "markdown",
   "metadata": {},
   "source": [
    "You compute a coefficient of determination for a regression model an obtain an $R^2=0.832$. What does the strength of the coefficient of determination say about the causal relationship between the explanatory and response variables?"
   ]
  },
  {
   "cell_type": "markdown",
   "metadata": {
    "collapsed": true
   },
   "source": [
    "Answer:\n",
    "\n",
    "The strength of coefficient of determination can only explain the goodness-of-fit of the regression line (The variation of response variable is smaller when $R^2$ is bigger), but it is not necessary explain the causal relationship. Like the relationship between number of people eat ice cream and number of people get bite by shark, the $R^2$ may be hight but it can not indicate any causal relationship between them"
   ]
  },
  {
   "cell_type": "markdown",
   "metadata": {},
   "source": [
    "### Question 10"
   ]
  },
  {
   "cell_type": "markdown",
   "metadata": {},
   "source": [
    "You compute a coefficient of determination for a regression model, regressing crime rate per capita ($Y$) on the size of municipal police force ($X$), obtaining an $R^2 = 0.6533$. What can you say about the relationship between $Y$ and $X$?"
   ]
  },
  {
   "cell_type": "markdown",
   "metadata": {
    "collapsed": true
   },
   "source": [
    "Answer:\n",
    "\n",
    "While we obtain $R^2 = 0.6533$, we can only tell that $Y$ (crime rate per capita) and $X$ (size of municipal police force) may have some relationship between them. That is only the estimation of the strength of relation, but it does not imply the estimated line is good fitted "
   ]
  },
  {
   "cell_type": "markdown",
   "metadata": {},
   "source": [
    "### Question 11"
   ]
  },
  {
   "cell_type": "markdown",
   "metadata": {},
   "source": [
    "From the discussion of SLR so far, how do you believe outliers will effect the regression line? "
   ]
  },
  {
   "cell_type": "markdown",
   "metadata": {
    "collapsed": true
   },
   "source": [
    "Answer:\n",
    "\n",
    "For SLR model, it is sensitive to outliers. The slope of the, $b_1$, and the y-intercept, $b_0$ still can be change seriously. I think the best way is to test with and without the outliers."
   ]
  },
  {
   "cell_type": "markdown",
   "metadata": {},
   "source": [
    "### Question 12"
   ]
  },
  {
   "cell_type": "markdown",
   "metadata": {},
   "source": [
    "Write out the hypothesis test which tests for the statistical significance of $\\beta_1$ for an SLR model. Be sure to include the null an alternate hypothesis, the critical value including degrees of freedom (two-tailed test) for $\\alpha = 0.05$ and an interpretation of both possible results. "
   ]
  },
  {
   "cell_type": "markdown",
   "metadata": {
    "collapsed": true
   },
   "source": [
    "Answer:\n",
    "\n",
    "Hypothesis:\n",
    "\n",
    "$H_0: \\beta_1 = 0$\n",
    "\n",
    "$H_1: \\beta_1 \\neq 0$\n",
    "\n",
    "Calculation:\n",
    "\n",
    "$t* = (b_1 - \\beta_1)/s${$b_1$}\n",
    "\n",
    "Since we lose 2 degrees of freedom to estimate $\\beta_0$ and $\\beta_1$ with $b_0$ and $b_1$\n",
    "\n",
    "$(b_1 - \\beta_1)/s${$b_1$} ~ $t(n-2)$\n",
    "\n",
    "Conclusion:\n",
    "\n",
    "Since it is two sided test, We can conclude that:\n",
    "\n",
    "if $\\left|t^*\\right| \\leq t(1-\\alpha/2;n-2)$, do not reject $H_0: \\beta_1=0$, that $\\beta_1$ do not have statistical significance with 0 at $\\alpha = 0.05$, which mean at $\\alpha = 0.05$ we conclude that X and Y do not have any relationship.\n",
    "\n",
    "if $\\left|t^*\\right| > t(1-\\alpha/2;n-2)$, reject $H_0: \\beta_1=0$ ,that $\\beta_1$ have statistical significance with 0 at $\\alpha = 0.05$, which mean at $\\alpha = 0.05$ X and Y have some kind of relationship."
   ]
  },
  {
   "cell_type": "markdown",
   "metadata": {},
   "source": [
    "### Question 13"
   ]
  },
  {
   "cell_type": "markdown",
   "metadata": {},
   "source": [
    "Using [```modified_SENIC_data_01.csv```](https://s3-us-west-1.amazonaws.com/usfca-cs686-ml/hw2/modified_SENIC_data_01.csv)\n",
    "1. Regress Infection Risk ($Y$) on Length of Stay ($X$). Report the $R^2$, $b_0$ and $b_1$  values.\n",
    "2. Multiply the observations, both $X$ and $Y$, by 192; we will refer to these as $X_{(2)}$ and $Y_{(2)}$. Regress $Y_{(2)}$ on $X_{(2)}$. Report the $R^2$, $b_0$ and $b_1$  values.\n",
    "3. Multiply only $Y$ by 47; we will refer to this as $Y_{(3)}$. Regress $Y_{(3)}$ on $X$. Report the $R^2$, $b_0$ and $b_1$  values.\n",
    "4. Multiply only $X$ by 12; we will refer to this as $X_{(3)}$. Regress $Y$ on $X_{(3)}$. Report the $R^2$, $b_0$ and $b_1$  values.\n",
    "\n",
    "\n",
    "**Succinctly** explain what you have gleaned from this exercise. Include a summarized tabular representation of the regression output and the associated $R^2$, $b_0$ and $b_1$ values."
   ]
  },
  {
   "cell_type": "code",
   "execution_count": 9,
   "metadata": {},
   "outputs": [
    {
     "name": "stdout",
     "output_type": "stream",
     "text": [
      "r-squared: 0.284562320773181\n",
      "Intercept       0.744304\n",
      "lengthOfStay    0.374217\n",
      "dtype: float64\n"
     ]
    }
   ],
   "source": [
    "import statsmodels.formula.api as smf\n",
    "import statsmodels.api as sm\n",
    "senic = pd.read_csv(\"data/modified_SENIC_data_01.csv\")\n",
    "senic = senic.loc[:, ['infectionRisk','lengthOfStay']]\n",
    "senic_model = smf.ols('infectionRisk ~ lengthOfStay', senic).fit()\n",
    "# senic_model.summary()\n",
    "print(\"r-squared:\", senic_model.rsquared)\n",
    "print(senic_model.params)"
   ]
  },
  {
   "cell_type": "code",
   "execution_count": 11,
   "metadata": {},
   "outputs": [
    {
     "name": "stdout",
     "output_type": "stream",
     "text": [
      "r-squared: 0.2845623207731809\n",
      "Intercept       142.906319\n",
      "lengthOfStay      0.374217\n",
      "dtype: float64\n"
     ]
    }
   ],
   "source": [
    "senic2 = senic.transform(lambda x : x*192)\n",
    "senic_model2 = smf.ols('infectionRisk ~ lengthOfStay', senic2).fit()\n",
    "# senic_model2.summary()\n",
    "print(\"r-squared:\", senic_model2.rsquared)\n",
    "print(senic_model2.params)"
   ]
  },
  {
   "cell_type": "code",
   "execution_count": 12,
   "metadata": {},
   "outputs": [
    {
     "name": "stdout",
     "output_type": "stream",
     "text": [
      "r-squared: 0.2845623207731811\n",
      "Intercept       34.982276\n",
      "lengthOfStay     0.374217\n",
      "dtype: float64\n"
     ]
    }
   ],
   "source": [
    "senic3 = senic.transform(lambda x : x*47)\n",
    "senic_model3 = smf.ols('infectionRisk ~ lengthOfStay', senic3).fit()\n",
    "# senic_model3.summary()\n",
    "print(\"r-squared:\", senic_model3.rsquared)\n",
    "print(senic_model3.params)"
   ]
  },
  {
   "cell_type": "code",
   "execution_count": 13,
   "metadata": {},
   "outputs": [
    {
     "name": "stdout",
     "output_type": "stream",
     "text": [
      "r-squared: 0.2845623207731811\n",
      "Intercept       8.931645\n",
      "lengthOfStay    0.374217\n",
      "dtype: float64\n"
     ]
    }
   ],
   "source": [
    "senic4 = senic.transform(lambda x : x*12)\n",
    "senic_model4 = smf.ols('infectionRisk ~ lengthOfStay', senic4).fit()\n",
    "# senic_model4.summary()\n",
    "print(\"r-squared:\", senic_model4.rsquared)\n",
    "print(senic_model4.params)"
   ]
  },
  {
   "cell_type": "code",
   "execution_count": 41,
   "metadata": {},
   "outputs": [
    {
     "data": {
      "text/html": [
       "<div>\n",
       "<style scoped>\n",
       "    .dataframe tbody tr th:only-of-type {\n",
       "        vertical-align: middle;\n",
       "    }\n",
       "\n",
       "    .dataframe tbody tr th {\n",
       "        vertical-align: top;\n",
       "    }\n",
       "\n",
       "    .dataframe thead th {\n",
       "        text-align: right;\n",
       "    }\n",
       "</style>\n",
       "<table border=\"1\" class=\"dataframe\">\n",
       "  <thead>\n",
       "    <tr style=\"text-align: right;\">\n",
       "      <th></th>\n",
       "      <th>name</th>\n",
       "      <th>R2</th>\n",
       "      <th>b1</th>\n",
       "      <th>b0</th>\n",
       "    </tr>\n",
       "  </thead>\n",
       "  <tbody>\n",
       "    <tr>\n",
       "      <th>0</th>\n",
       "      <td>x</td>\n",
       "      <td>0.284562</td>\n",
       "      <td>0.374217</td>\n",
       "      <td>0.744304</td>\n",
       "    </tr>\n",
       "    <tr>\n",
       "      <th>1</th>\n",
       "      <td>x192</td>\n",
       "      <td>0.284562</td>\n",
       "      <td>0.374217</td>\n",
       "      <td>142.906319</td>\n",
       "    </tr>\n",
       "    <tr>\n",
       "      <th>2</th>\n",
       "      <td>x47</td>\n",
       "      <td>0.284562</td>\n",
       "      <td>0.374217</td>\n",
       "      <td>34.982276</td>\n",
       "    </tr>\n",
       "    <tr>\n",
       "      <th>3</th>\n",
       "      <td>x12</td>\n",
       "      <td>0.284562</td>\n",
       "      <td>0.374217</td>\n",
       "      <td>8.931645</td>\n",
       "    </tr>\n",
       "  </tbody>\n",
       "</table>\n",
       "</div>"
      ],
      "text/plain": [
       "   name        R2        b1          b0\n",
       "0     x  0.284562  0.374217    0.744304\n",
       "1  x192  0.284562  0.374217  142.906319\n",
       "2   x47  0.284562  0.374217   34.982276\n",
       "3   x12  0.284562  0.374217    8.931645"
      ]
     },
     "execution_count": 41,
     "metadata": {},
     "output_type": "execute_result"
    }
   ],
   "source": [
    "d = {'name':['x','x192','x47','x12'],\n",
    "        'R2':[senic_model.rsquared,senic_model2.rsquared,senic_model3.rsquared,senic_model4.rsquared],\n",
    "        'b1':[senic_model.params['lengthOfStay'],senic_model2.params['lengthOfStay'],\n",
    "              senic_model3.params['lengthOfStay'],senic_model4.params['lengthOfStay']],\n",
    "        'b0':[senic_model.params['Intercept'],senic_model2.params['Intercept'],\n",
    "              senic_model3.params['Intercept'],senic_model4.params['Intercept']]}\n",
    "dataframe = pd.DataFrame(data=d)\n",
    "dataframe"
   ]
  },
  {
   "cell_type": "markdown",
   "metadata": {},
   "source": [
    "If the dependent variable and independent variable mutiply by same number, no matter what the number is the slope of the regression line($b1$) and coefficient of determination($R^2$) wouldn't change. But the intercept($b0$) would be larger along with the number increase. (The result of $b_0$ would increase with same proportion, which mean result would be original $b_0$, 0.744304, mutiply by the number)"
   ]
  },
  {
   "cell_type": "markdown",
   "metadata": {},
   "source": [
    "### Question 14"
   ]
  },
  {
   "cell_type": "markdown",
   "metadata": {},
   "source": [
    "Using the [```fourDataSets.csv```](https://s3-us-west-1.amazonaws.com/usfca-cs686-ml/hw2/fourDataSets.csv), regress $Y$ on $X$ for $i=1,2,3,4$, i.e., generate four separate SLR models. **For each** of the four data sets, run and report summary statistics, generate a scatter plot and run a SLR model, reporting the regression function $R^2$, $R_a^2$, and the significance of $b_1$ ($p$-value). Intelligently discuss what you observe about each data set and the data sets as a whole."
   ]
  },
  {
   "cell_type": "code",
   "execution_count": 44,
   "metadata": {},
   "outputs": [
    {
     "data": {
      "text/html": [
       "<div>\n",
       "<style scoped>\n",
       "    .dataframe tbody tr th:only-of-type {\n",
       "        vertical-align: middle;\n",
       "    }\n",
       "\n",
       "    .dataframe tbody tr th {\n",
       "        vertical-align: top;\n",
       "    }\n",
       "\n",
       "    .dataframe thead th {\n",
       "        text-align: right;\n",
       "    }\n",
       "</style>\n",
       "<table border=\"1\" class=\"dataframe\">\n",
       "  <thead>\n",
       "    <tr style=\"text-align: right;\">\n",
       "      <th></th>\n",
       "      <th>x</th>\n",
       "      <th>y</th>\n",
       "    </tr>\n",
       "  </thead>\n",
       "  <tbody>\n",
       "    <tr>\n",
       "      <th>count</th>\n",
       "      <td>44.000000</td>\n",
       "      <td>44.000000</td>\n",
       "    </tr>\n",
       "    <tr>\n",
       "      <th>mean</th>\n",
       "      <td>9.000000</td>\n",
       "      <td>7.500682</td>\n",
       "    </tr>\n",
       "    <tr>\n",
       "      <th>std</th>\n",
       "      <td>3.198837</td>\n",
       "      <td>1.958925</td>\n",
       "    </tr>\n",
       "    <tr>\n",
       "      <th>min</th>\n",
       "      <td>4.000000</td>\n",
       "      <td>3.100000</td>\n",
       "    </tr>\n",
       "    <tr>\n",
       "      <th>25%</th>\n",
       "      <td>7.000000</td>\n",
       "      <td>6.117500</td>\n",
       "    </tr>\n",
       "    <tr>\n",
       "      <th>50%</th>\n",
       "      <td>8.000000</td>\n",
       "      <td>7.520000</td>\n",
       "    </tr>\n",
       "    <tr>\n",
       "      <th>75%</th>\n",
       "      <td>11.000000</td>\n",
       "      <td>8.747500</td>\n",
       "    </tr>\n",
       "    <tr>\n",
       "      <th>max</th>\n",
       "      <td>19.000000</td>\n",
       "      <td>12.740000</td>\n",
       "    </tr>\n",
       "  </tbody>\n",
       "</table>\n",
       "</div>"
      ],
      "text/plain": [
       "               x          y\n",
       "count  44.000000  44.000000\n",
       "mean    9.000000   7.500682\n",
       "std     3.198837   1.958925\n",
       "min     4.000000   3.100000\n",
       "25%     7.000000   6.117500\n",
       "50%     8.000000   7.520000\n",
       "75%    11.000000   8.747500\n",
       "max    19.000000  12.740000"
      ]
     },
     "execution_count": 44,
     "metadata": {},
     "output_type": "execute_result"
    }
   ],
   "source": [
    "import seaborn as sns\n",
    "whole = pd.read_csv(\"data/fourDataSets.csv\")\n",
    "whole.drop(columns=['dataSet']).describe()"
   ]
  },
  {
   "cell_type": "code",
   "execution_count": 45,
   "metadata": {},
   "outputs": [
    {
     "data": {
      "image/png": "[encoded data removed]",
      "text/plain": [
       "<Figure size 360x360 with 1 Axes>"
      ]
     },
     "metadata": {
      "needs_background": "light"
     },
     "output_type": "display_data"
    }
   ],
   "source": [
    "whole_plot = sns.lmplot(\"x\", \"y\", data=whole, ci = None)"
   ]
  },
  {
   "cell_type": "code",
   "execution_count": 46,
   "metadata": {},
   "outputs": [
    {
     "name": "stdout",
     "output_type": "stream",
     "text": [
      "R-squared:  0.6664538423204793\n",
      "Adj. r-squared:  0.6585122671376336\n",
      "b1 p-value: 1.4365052916298407e-11\n"
     ]
    }
   ],
   "source": [
    "whole_model = smf.ols('y ~ x', whole).fit()\n",
    "# whole_model.summary()\n",
    "print(\"R-squared: \",whole_model.rsquared)\n",
    "print(\"Adj. r-squared: \", whole_model.rsquared_adj)\n",
    "print(\"b1 p-value:\", whole_model.pvalues['x'])"
   ]
  },
  {
   "cell_type": "code",
   "execution_count": 47,
   "metadata": {},
   "outputs": [
    {
     "data": {
      "text/html": [
       "<div>\n",
       "<style scoped>\n",
       "    .dataframe tbody tr th:only-of-type {\n",
       "        vertical-align: middle;\n",
       "    }\n",
       "\n",
       "    .dataframe tbody tr th {\n",
       "        vertical-align: top;\n",
       "    }\n",
       "\n",
       "    .dataframe thead th {\n",
       "        text-align: right;\n",
       "    }\n",
       "</style>\n",
       "<table border=\"1\" class=\"dataframe\">\n",
       "  <thead>\n",
       "    <tr style=\"text-align: right;\">\n",
       "      <th></th>\n",
       "      <th>x</th>\n",
       "      <th>y</th>\n",
       "    </tr>\n",
       "  </thead>\n",
       "  <tbody>\n",
       "    <tr>\n",
       "      <th>count</th>\n",
       "      <td>11.000000</td>\n",
       "      <td>11.000000</td>\n",
       "    </tr>\n",
       "    <tr>\n",
       "      <th>mean</th>\n",
       "      <td>9.000000</td>\n",
       "      <td>7.500909</td>\n",
       "    </tr>\n",
       "    <tr>\n",
       "      <th>std</th>\n",
       "      <td>3.316625</td>\n",
       "      <td>2.031568</td>\n",
       "    </tr>\n",
       "    <tr>\n",
       "      <th>min</th>\n",
       "      <td>4.000000</td>\n",
       "      <td>4.260000</td>\n",
       "    </tr>\n",
       "    <tr>\n",
       "      <th>25%</th>\n",
       "      <td>6.500000</td>\n",
       "      <td>6.315000</td>\n",
       "    </tr>\n",
       "    <tr>\n",
       "      <th>50%</th>\n",
       "      <td>9.000000</td>\n",
       "      <td>7.580000</td>\n",
       "    </tr>\n",
       "    <tr>\n",
       "      <th>75%</th>\n",
       "      <td>11.500000</td>\n",
       "      <td>8.570000</td>\n",
       "    </tr>\n",
       "    <tr>\n",
       "      <th>max</th>\n",
       "      <td>14.000000</td>\n",
       "      <td>10.840000</td>\n",
       "    </tr>\n",
       "  </tbody>\n",
       "</table>\n",
       "</div>"
      ],
      "text/plain": [
       "               x          y\n",
       "count  11.000000  11.000000\n",
       "mean    9.000000   7.500909\n",
       "std     3.316625   2.031568\n",
       "min     4.000000   4.260000\n",
       "25%     6.500000   6.315000\n",
       "50%     9.000000   7.580000\n",
       "75%    11.500000   8.570000\n",
       "max    14.000000  10.840000"
      ]
     },
     "execution_count": 47,
     "metadata": {},
     "output_type": "execute_result"
    }
   ],
   "source": [
    "one = whole[whole['dataSet']==1]\n",
    "one.drop(columns=['dataSet']).describe()"
   ]
  },
  {
   "cell_type": "code",
   "execution_count": 48,
   "metadata": {},
   "outputs": [
    {
     "data": {
      "image/png": "[encoded data removed]",
      "text/plain": [
       "<Figure size 360x360 with 1 Axes>"
      ]
     },
     "metadata": {
      "needs_background": "light"
     },
     "output_type": "display_data"
    }
   ],
   "source": [
    "one_plot = sns.lmplot(\"x\", \"y\", data=one, ci = None)"
   ]
  },
  {
   "cell_type": "code",
   "execution_count": 49,
   "metadata": {},
   "outputs": [
    {
     "name": "stdout",
     "output_type": "stream",
     "text": [
      "R-squared:  0.666542459508775\n",
      "Adj. r-squared:  0.6294916216764166\n",
      "b1 p-value: 0.002169628873078794\n"
     ]
    }
   ],
   "source": [
    "one_model = smf.ols('y ~ x', one).fit()\n",
    "# one_model.summary()\n",
    "print(\"R-squared: \",one_model.rsquared)\n",
    "print(\"Adj. r-squared: \", one_model.rsquared_adj)\n",
    "print(\"b1 p-value:\", one_model.pvalues['x'])"
   ]
  },
  {
   "cell_type": "code",
   "execution_count": 52,
   "metadata": {},
   "outputs": [
    {
     "data": {
      "text/html": [
       "<div>\n",
       "<style scoped>\n",
       "    .dataframe tbody tr th:only-of-type {\n",
       "        vertical-align: middle;\n",
       "    }\n",
       "\n",
       "    .dataframe tbody tr th {\n",
       "        vertical-align: top;\n",
       "    }\n",
       "\n",
       "    .dataframe thead th {\n",
       "        text-align: right;\n",
       "    }\n",
       "</style>\n",
       "<table border=\"1\" class=\"dataframe\">\n",
       "  <thead>\n",
       "    <tr style=\"text-align: right;\">\n",
       "      <th></th>\n",
       "      <th>x</th>\n",
       "      <th>y</th>\n",
       "    </tr>\n",
       "  </thead>\n",
       "  <tbody>\n",
       "    <tr>\n",
       "      <th>count</th>\n",
       "      <td>11.000000</td>\n",
       "      <td>11.000000</td>\n",
       "    </tr>\n",
       "    <tr>\n",
       "      <th>mean</th>\n",
       "      <td>9.000000</td>\n",
       "      <td>7.500909</td>\n",
       "    </tr>\n",
       "    <tr>\n",
       "      <th>std</th>\n",
       "      <td>3.316625</td>\n",
       "      <td>2.031657</td>\n",
       "    </tr>\n",
       "    <tr>\n",
       "      <th>min</th>\n",
       "      <td>4.000000</td>\n",
       "      <td>3.100000</td>\n",
       "    </tr>\n",
       "    <tr>\n",
       "      <th>25%</th>\n",
       "      <td>6.500000</td>\n",
       "      <td>6.695000</td>\n",
       "    </tr>\n",
       "    <tr>\n",
       "      <th>50%</th>\n",
       "      <td>9.000000</td>\n",
       "      <td>8.140000</td>\n",
       "    </tr>\n",
       "    <tr>\n",
       "      <th>75%</th>\n",
       "      <td>11.500000</td>\n",
       "      <td>8.950000</td>\n",
       "    </tr>\n",
       "    <tr>\n",
       "      <th>max</th>\n",
       "      <td>14.000000</td>\n",
       "      <td>9.260000</td>\n",
       "    </tr>\n",
       "  </tbody>\n",
       "</table>\n",
       "</div>"
      ],
      "text/plain": [
       "               x          y\n",
       "count  11.000000  11.000000\n",
       "mean    9.000000   7.500909\n",
       "std     3.316625   2.031657\n",
       "min     4.000000   3.100000\n",
       "25%     6.500000   6.695000\n",
       "50%     9.000000   8.140000\n",
       "75%    11.500000   8.950000\n",
       "max    14.000000   9.260000"
      ]
     },
     "execution_count": 52,
     "metadata": {},
     "output_type": "execute_result"
    }
   ],
   "source": [
    "two = whole[whole['dataSet']==2]\n",
    "two.drop(columns=['dataSet']).describe()"
   ]
  },
  {
   "cell_type": "code",
   "execution_count": 51,
   "metadata": {},
   "outputs": [
    {
     "data": {
      "image/png": "[encoded data removed]",
      "text/plain": [
       "<Figure size 360x360 with 1 Axes>"
      ]
     },
     "metadata": {
      "needs_background": "light"
     },
     "output_type": "display_data"
    }
   ],
   "source": [
    "two_plot = sns.lmplot(\"x\", \"y\", data=two, ci = None)"
   ]
  },
  {
   "cell_type": "code",
   "execution_count": 33,
   "metadata": {},
   "outputs": [
    {
     "name": "stdout",
     "output_type": "stream",
     "text": [
      "R-squared:  0.6662420337274844\n",
      "Adj. r-squared:  0.6291578152527604\n",
      "b1 p-value: 0.0021788162369108005\n"
     ]
    }
   ],
   "source": [
    "two_model = smf.ols('y ~ x', two).fit()\n",
    "# two_model.summary()\n",
    "print(\"R-squared: \",two_model.rsquared)\n",
    "print(\"Adj. r-squared: \", two_model.rsquared_adj)\n",
    "print(\"b1 p-value:\", two_model.pvalues['x'])"
   ]
  },
  {
   "cell_type": "code",
   "execution_count": 53,
   "metadata": {},
   "outputs": [
    {
     "data": {
      "text/html": [
       "<div>\n",
       "<style scoped>\n",
       "    .dataframe tbody tr th:only-of-type {\n",
       "        vertical-align: middle;\n",
       "    }\n",
       "\n",
       "    .dataframe tbody tr th {\n",
       "        vertical-align: top;\n",
       "    }\n",
       "\n",
       "    .dataframe thead th {\n",
       "        text-align: right;\n",
       "    }\n",
       "</style>\n",
       "<table border=\"1\" class=\"dataframe\">\n",
       "  <thead>\n",
       "    <tr style=\"text-align: right;\">\n",
       "      <th></th>\n",
       "      <th>x</th>\n",
       "      <th>y</th>\n",
       "    </tr>\n",
       "  </thead>\n",
       "  <tbody>\n",
       "    <tr>\n",
       "      <th>count</th>\n",
       "      <td>11.000000</td>\n",
       "      <td>11.000000</td>\n",
       "    </tr>\n",
       "    <tr>\n",
       "      <th>mean</th>\n",
       "      <td>9.000000</td>\n",
       "      <td>7.500000</td>\n",
       "    </tr>\n",
       "    <tr>\n",
       "      <th>std</th>\n",
       "      <td>3.316625</td>\n",
       "      <td>2.030424</td>\n",
       "    </tr>\n",
       "    <tr>\n",
       "      <th>min</th>\n",
       "      <td>4.000000</td>\n",
       "      <td>5.390000</td>\n",
       "    </tr>\n",
       "    <tr>\n",
       "      <th>25%</th>\n",
       "      <td>6.500000</td>\n",
       "      <td>6.250000</td>\n",
       "    </tr>\n",
       "    <tr>\n",
       "      <th>50%</th>\n",
       "      <td>9.000000</td>\n",
       "      <td>7.110000</td>\n",
       "    </tr>\n",
       "    <tr>\n",
       "      <th>75%</th>\n",
       "      <td>11.500000</td>\n",
       "      <td>7.980000</td>\n",
       "    </tr>\n",
       "    <tr>\n",
       "      <th>max</th>\n",
       "      <td>14.000000</td>\n",
       "      <td>12.740000</td>\n",
       "    </tr>\n",
       "  </tbody>\n",
       "</table>\n",
       "</div>"
      ],
      "text/plain": [
       "               x          y\n",
       "count  11.000000  11.000000\n",
       "mean    9.000000   7.500000\n",
       "std     3.316625   2.030424\n",
       "min     4.000000   5.390000\n",
       "25%     6.500000   6.250000\n",
       "50%     9.000000   7.110000\n",
       "75%    11.500000   7.980000\n",
       "max    14.000000  12.740000"
      ]
     },
     "execution_count": 53,
     "metadata": {},
     "output_type": "execute_result"
    }
   ],
   "source": [
    "three = whole[whole['dataSet']==3]\n",
    "three.drop(columns=['dataSet']).describe()"
   ]
  },
  {
   "cell_type": "code",
   "execution_count": 54,
   "metadata": {},
   "outputs": [
    {
     "data": {
      "image/png": "[encoded data removed]",
      "text/plain": [
       "<Figure size 360x360 with 1 Axes>"
      ]
     },
     "metadata": {
      "needs_background": "light"
     },
     "output_type": "display_data"
    }
   ],
   "source": [
    "three_plot = sns.lmplot(\"x\", \"y\", data=three, ci = None)"
   ]
  },
  {
   "cell_type": "code",
   "execution_count": 35,
   "metadata": {},
   "outputs": [
    {
     "name": "stdout",
     "output_type": "stream",
     "text": [
      "R-squared:  0.6663240410665593\n",
      "Adj. r-squared:  0.6292489345183991\n",
      "b1 p-value: 0.002176305279228019\n"
     ]
    }
   ],
   "source": [
    "three_model = smf.ols('y ~ x', three).fit()\n",
    "# three_model.summary()\n",
    "print(\"R-squared: \",three_model.rsquared)\n",
    "print(\"Adj. r-squared: \", three_model.rsquared_adj)\n",
    "print(\"b1 p-value:\", three_model.pvalues['x'])"
   ]
  },
  {
   "cell_type": "code",
   "execution_count": 56,
   "metadata": {},
   "outputs": [
    {
     "data": {
      "text/html": [
       "<div>\n",
       "<style scoped>\n",
       "    .dataframe tbody tr th:only-of-type {\n",
       "        vertical-align: middle;\n",
       "    }\n",
       "\n",
       "    .dataframe tbody tr th {\n",
       "        vertical-align: top;\n",
       "    }\n",
       "\n",
       "    .dataframe thead th {\n",
       "        text-align: right;\n",
       "    }\n",
       "</style>\n",
       "<table border=\"1\" class=\"dataframe\">\n",
       "  <thead>\n",
       "    <tr style=\"text-align: right;\">\n",
       "      <th></th>\n",
       "      <th>x</th>\n",
       "      <th>y</th>\n",
       "    </tr>\n",
       "  </thead>\n",
       "  <tbody>\n",
       "    <tr>\n",
       "      <th>count</th>\n",
       "      <td>11.000000</td>\n",
       "      <td>11.000000</td>\n",
       "    </tr>\n",
       "    <tr>\n",
       "      <th>mean</th>\n",
       "      <td>9.000000</td>\n",
       "      <td>7.500909</td>\n",
       "    </tr>\n",
       "    <tr>\n",
       "      <th>std</th>\n",
       "      <td>3.316625</td>\n",
       "      <td>2.030579</td>\n",
       "    </tr>\n",
       "    <tr>\n",
       "      <th>min</th>\n",
       "      <td>8.000000</td>\n",
       "      <td>5.250000</td>\n",
       "    </tr>\n",
       "    <tr>\n",
       "      <th>25%</th>\n",
       "      <td>8.000000</td>\n",
       "      <td>6.170000</td>\n",
       "    </tr>\n",
       "    <tr>\n",
       "      <th>50%</th>\n",
       "      <td>8.000000</td>\n",
       "      <td>7.040000</td>\n",
       "    </tr>\n",
       "    <tr>\n",
       "      <th>75%</th>\n",
       "      <td>8.000000</td>\n",
       "      <td>8.190000</td>\n",
       "    </tr>\n",
       "    <tr>\n",
       "      <th>max</th>\n",
       "      <td>19.000000</td>\n",
       "      <td>12.500000</td>\n",
       "    </tr>\n",
       "  </tbody>\n",
       "</table>\n",
       "</div>"
      ],
      "text/plain": [
       "               x          y\n",
       "count  11.000000  11.000000\n",
       "mean    9.000000   7.500909\n",
       "std     3.316625   2.030579\n",
       "min     8.000000   5.250000\n",
       "25%     8.000000   6.170000\n",
       "50%     8.000000   7.040000\n",
       "75%     8.000000   8.190000\n",
       "max    19.000000  12.500000"
      ]
     },
     "execution_count": 56,
     "metadata": {},
     "output_type": "execute_result"
    }
   ],
   "source": [
    "four = whole[whole['dataSet']==4]\n",
    "four.drop(columns=['dataSet']).describe()"
   ]
  },
  {
   "cell_type": "code",
   "execution_count": 55,
   "metadata": {},
   "outputs": [
    {
     "data": {
      "image/png": "[encoded data removed]",
      "text/plain": [
       "<Figure size 360x360 with 1 Axes>"
      ]
     },
     "metadata": {
      "needs_background": "light"
     },
     "output_type": "display_data"
    }
   ],
   "source": [
    "four_plot = sns.lmplot(\"x\", \"y\", data=four, ci = None)"
   ]
  },
  {
   "cell_type": "code",
   "execution_count": 37,
   "metadata": {},
   "outputs": [
    {
     "name": "stdout",
     "output_type": "stream",
     "text": [
      "R-squared:  0.6667072568984653\n",
      "Adj. r-squared:  0.6296747298871836\n",
      "b1 p-value: 0.00216460234719722\n"
     ]
    }
   ],
   "source": [
    "four_model = smf.ols('y ~ x', four).fit()\n",
    "# four_model.summary()\n",
    "print(\"R-squared: \", four_model.rsquared)\n",
    "print(\"Adj. r-squared: \", four_model.rsquared_adj)\n",
    "print(\"b1 p-value:\", four_model.pvalues['x'])"
   ]
  },
  {
   "cell_type": "markdown",
   "metadata": {},
   "source": [
    "Answer:\n",
    "\n",
    "Even the mean, standard diviation of x, y, p-value ($b_1$) and r-squared are same for this four datasets and whole dataset, we can not tell that the estimated regression line is good fitted and this is a good model for this datasets."
   ]
  }
 ],
 "metadata": {
  "kernelspec": {
   "display_name": "Python 3",
   "language": "python",
   "name": "python3"
  },
  "language_info": {
   "codemirror_mode": {
    "name": "ipython",
    "version": 3
   },
   "file_extension": ".py",
   "mimetype": "text/x-python",
   "name": "python",
   "nbconvert_exporter": "python",
   "pygments_lexer": "ipython3",
   "version": "3.7.1"
  }
 },
 "nbformat": 4,
 "nbformat_minor": 2
}
