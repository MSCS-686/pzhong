{
 "cells": [
  {
   "cell_type": "markdown",
   "metadata": {},
   "source": [
    "# Homework Assignment #1"
   ]
  },
  {
   "cell_type": "markdown",
   "metadata": {},
   "source": [
    "*due Tuesday, February 5, 2019 by 11:59pm*\n",
    "\n",
    "This homework is worth **10 points** [100%] with the option to score **extra 1.5 points [15%]** if you submit the additional questions."
   ]
  },
  {
   "cell_type": "markdown",
   "metadata": {},
   "source": [
    "### n.b.\n",
    "All deliverables are required to be typed and all graphs and statistical output generated in Jupyter Notebook using Python and associated packages. Deliverables with *any* handwritten elements will not be accepted and will receive a grade of zero. \n",
    "\n",
    "You are required to upload the ```ipynb``` file to **your private GitHub repository within the MSCS686 organization** as the deliverable. Use the ```homework_01.ipynb``` file as a template and write the answers in text and include relevant code below each question. "
   ]
  },
  {
   "cell_type": "code",
   "execution_count": null,
   "metadata": {},
   "outputs": [],
   "source": [
    "import os\n",
    "import numpy as np\n",
    "import pandas as pd\n",
    "import matplotlib.pyplot as plt\n",
    "import seaborn as sns\n",
    "%matplotlib inline"
   ]
  },
  {
   "cell_type": "markdown",
   "metadata": {},
   "source": [
    "### Data\n",
    "Make sure you completed the following:\n",
    "* Created `data` directory in the `hw1` folder\n",
    "* Downloaded the [housing data](https://s3-us-west-1.amazonaws.com/usfca-cs686-ml/hw1/housing.csv) to the `data` directory"
   ]
  },
  {
   "cell_type": "code",
   "execution_count": null,
   "metadata": {},
   "outputs": [],
   "source": [
    "# Path to housing.csv\n",
    "data_path = os.path.join(\"data\", \"housing.csv\")\n",
    "\n",
    "if not os.path.exists(data_path):\n",
    "    print(\"Download data first!\")"
   ]
  },
  {
   "cell_type": "markdown",
   "metadata": {},
   "source": [
    "## Part 1: Read & clean data [total of 50%]"
   ]
  },
  {
   "cell_type": "markdown",
   "metadata": {},
   "source": [
    "#### 1.1 Read the data to a pandas DataFrame, print the first 7 entries [10%]\n",
    "**IMPORTANT**: Read the data so that **`Id`** is set as the index column.<br/>\n",
    "HINT: Refer to the [docs](https://pandas.pydata.org/pandas-docs/stable/index.html)"
   ]
  },
  {
   "cell_type": "code",
   "execution_count": null,
   "metadata": {},
   "outputs": [],
   "source": []
  },
  {
   "cell_type": "markdown",
   "metadata": {},
   "source": [
    "#### 1.2 Print the names of columns, and number of rows and columns in the DataFrame [10%]"
   ]
  },
  {
   "cell_type": "code",
   "execution_count": null,
   "metadata": {},
   "outputs": [],
   "source": []
  },
  {
   "cell_type": "markdown",
   "metadata": {},
   "source": [
    "#### 1.3"
   ]
  },
  {
   "cell_type": "markdown",
   "metadata": {},
   "source": [
    "#### (a) Create a subset of original dataset with the  rows 200 to 1400 and the columns according to the list below. [5%]"
   ]
  },
  {
   "cell_type": "code",
   "execution_count": null,
   "metadata": {},
   "outputs": [],
   "source": [
    "# DO NOT CHANGE THIS CELL\n",
    "cols = ['LotFrontage', 'LotArea', 'Neighborhood', 'OverallCond', 'YearBuilt', 'YrSold', 'GrLivArea', '1stFlrSF', '2ndFlrSF',\n",
    "       'SaleCondition', 'SalePrice']"
   ]
  },
  {
   "cell_type": "code",
   "execution_count": null,
   "metadata": {},
   "outputs": [],
   "source": []
  },
  {
   "cell_type": "markdown",
   "metadata": {},
   "source": [
    "#### (b) Rename column`YrSold` to `YearSold` [5%]"
   ]
  },
  {
   "cell_type": "code",
   "execution_count": null,
   "metadata": {},
   "outputs": [],
   "source": []
  },
  {
   "cell_type": "markdown",
   "metadata": {},
   "source": [
    "#### 1.4 Some values in the `LotFrontage` column are missing, fill them with *average* value [10%]"
   ]
  },
  {
   "cell_type": "code",
   "execution_count": null,
   "metadata": {},
   "outputs": [],
   "source": []
  },
  {
   "cell_type": "markdown",
   "metadata": {},
   "source": [
    "#### 1.5 Answer the following questions with the *subset* of the data:\n",
    "Each subquestion is worth **1%**"
   ]
  },
  {
   "cell_type": "markdown",
   "metadata": {},
   "source": [
    "#### 1.5.1 What were the basic statistics of house prices? (mean, std, min, 25%, 50%, 75%, max)"
   ]
  },
  {
   "cell_type": "code",
   "execution_count": null,
   "metadata": {},
   "outputs": [],
   "source": []
  },
  {
   "cell_type": "markdown",
   "metadata": {},
   "source": [
    "#### 1.5.2 What's the average lot size in square feet? How about the standard deviation?\n",
    "HINT: Use the column `LotArea`"
   ]
  },
  {
   "cell_type": "code",
   "execution_count": null,
   "metadata": {},
   "outputs": [],
   "source": []
  },
  {
   "cell_type": "markdown",
   "metadata": {},
   "source": [
    "#### 1.5.3 What year was the oldest house build?"
   ]
  },
  {
   "cell_type": "code",
   "execution_count": null,
   "metadata": {},
   "outputs": [],
   "source": []
  },
  {
   "cell_type": "markdown",
   "metadata": {},
   "source": [
    "#### 1.5.4 Follow-up question to the previous one: What was the sale condition of that house?"
   ]
  },
  {
   "cell_type": "code",
   "execution_count": null,
   "metadata": {},
   "outputs": [],
   "source": []
  },
  {
   "cell_type": "markdown",
   "metadata": {},
   "source": [
    "#### 1.5.5 How many houses were built in 2008? How about 2009?"
   ]
  },
  {
   "cell_type": "code",
   "execution_count": null,
   "metadata": {},
   "outputs": [],
   "source": []
  },
  {
   "cell_type": "markdown",
   "metadata": {},
   "source": [
    "#### 1.5.6 Break-down median prices of houses by year in sold they were sold"
   ]
  },
  {
   "cell_type": "code",
   "execution_count": null,
   "metadata": {},
   "outputs": [],
   "source": []
  },
  {
   "cell_type": "markdown",
   "metadata": {},
   "source": [
    "#### 1.5.7 What is the average difference between 1st Floor (`1stFlrSF`) and 2nd Floor (`2ndFlrSF`) square feet?"
   ]
  },
  {
   "cell_type": "code",
   "execution_count": null,
   "metadata": {},
   "outputs": [],
   "source": []
  },
  {
   "cell_type": "markdown",
   "metadata": {},
   "source": [
    "#### 1.5.8 In what neighborhood is the most expensive house situated?"
   ]
  },
  {
   "cell_type": "code",
   "execution_count": null,
   "metadata": {},
   "outputs": [],
   "source": []
  },
  {
   "cell_type": "markdown",
   "metadata": {},
   "source": [
    "#### 1.5.9 What was the average price of houses with overall condition 8 or higher, built after 1960 (inclusive) and sold before 2009 (exclusive)?"
   ]
  },
  {
   "cell_type": "code",
   "execution_count": null,
   "metadata": {},
   "outputs": [],
   "source": []
  },
  {
   "cell_type": "markdown",
   "metadata": {},
   "source": [
    "#### 1.5.10 Display the house with id 987? Display the 472nd house in the dataset?"
   ]
  },
  {
   "cell_type": "code",
   "execution_count": null,
   "metadata": {},
   "outputs": [],
   "source": []
  },
  {
   "cell_type": "markdown",
   "metadata": {},
   "source": [
    "## Part 2: Plotting [total of 30%]"
   ]
  },
  {
   "cell_type": "markdown",
   "metadata": {},
   "source": [
    "#### 2.1 Univariate (1 variable) [10%, 3.3% each]"
   ]
  },
  {
   "cell_type": "markdown",
   "metadata": {},
   "source": [
    "#### 2.1.1 Plot the distribution of sale price"
   ]
  },
  {
   "cell_type": "code",
   "execution_count": null,
   "metadata": {},
   "outputs": [],
   "source": []
  },
  {
   "cell_type": "markdown",
   "metadata": {},
   "source": [
    "#### 2.1.2 Plot the histogram of the overall condition"
   ]
  },
  {
   "cell_type": "code",
   "execution_count": null,
   "metadata": {},
   "outputs": [],
   "source": []
  },
  {
   "cell_type": "markdown",
   "metadata": {},
   "source": [
    "#### 2.1.3 Create one univariate plot of your own choice"
   ]
  },
  {
   "cell_type": "code",
   "execution_count": null,
   "metadata": {},
   "outputs": [],
   "source": []
  },
  {
   "cell_type": "markdown",
   "metadata": {},
   "source": [
    "#### 2.2 Bivariate (2 variables) [10%, 3.3% each]"
   ]
  },
  {
   "cell_type": "markdown",
   "metadata": {},
   "source": [
    "#### 2.2.1 Plot the scatter plot displaying the relationship between above ground living area (`GrLivArea`) and sale price"
   ]
  },
  {
   "cell_type": "code",
   "execution_count": null,
   "metadata": {},
   "outputs": [],
   "source": []
  },
  {
   "cell_type": "markdown",
   "metadata": {},
   "source": [
    "#### 2.2.2 Plot the boxplot of the relationship between the overall condition and the sale price\n",
    "HINT: The result should look something like [this](https://s3-us-west-1.amazonaws.com/usfca-cs686-ml/hw1/boxplot_result.png) (however, it's OK if yours looks different as long as you use the right type of plot, data and the right variables)"
   ]
  },
  {
   "cell_type": "code",
   "execution_count": null,
   "metadata": {},
   "outputs": [],
   "source": []
  },
  {
   "cell_type": "markdown",
   "metadata": {},
   "source": [
    "#### 2.2.3 Create one bivariate plot of your own choice"
   ]
  },
  {
   "cell_type": "code",
   "execution_count": null,
   "metadata": {},
   "outputs": [],
   "source": []
  },
  {
   "cell_type": "markdown",
   "metadata": {},
   "source": [
    "#### 2.3 Multivariate (2+ variables) [10%, 3.3% each]"
   ]
  },
  {
   "cell_type": "markdown",
   "metadata": {},
   "source": [
    "#### 2.3.1 Plot the scatter plot displaying the relationship between lot area and sale price, colored by the overall condition"
   ]
  },
  {
   "cell_type": "code",
   "execution_count": null,
   "metadata": {},
   "outputs": [],
   "source": []
  },
  {
   "cell_type": "markdown",
   "metadata": {},
   "source": [
    "#### 2.3.2 Create one multivariate plot of your own choice"
   ]
  },
  {
   "cell_type": "code",
   "execution_count": null,
   "metadata": {},
   "outputs": [],
   "source": []
  },
  {
   "cell_type": "markdown",
   "metadata": {},
   "source": [
    "## Part 3: Theory [total of 20%]"
   ]
  },
  {
   "cell_type": "markdown",
   "metadata": {},
   "source": [
    "### 3.1 Central Limit Theorem (CLT) [total of 10%]"
   ]
  },
  {
   "cell_type": "markdown",
   "metadata": {},
   "source": [
    "#### 3.1.1 Create an array on 100 000 samples, sampled from a uniform distribution [2%]\n",
    "HINT: check [this](https://docs.scipy.org/doc/numpy-1.14.5/reference/generated/numpy.random.uniform.html)"
   ]
  },
  {
   "cell_type": "code",
   "execution_count": null,
   "metadata": {},
   "outputs": [],
   "source": []
  },
  {
   "cell_type": "markdown",
   "metadata": {},
   "source": [
    "#### 3.1.2 Plot the distribution of the data. Does it look like a uniform distribution?  [2%]\n",
    "HINT: check [this](https://seaborn.pydata.org/tutorial/distributions.html)"
   ]
  },
  {
   "cell_type": "code",
   "execution_count": null,
   "metadata": {},
   "outputs": [],
   "source": []
  },
  {
   "cell_type": "markdown",
   "metadata": {},
   "source": [
    "#### 3.1.3 Randomly shuffle the data, create pairs ($n=2$) with the original and than average the value of the pair  [1.5%]\n",
    "In other words:\n",
    "\n",
    "1. Create new array by shuffling the data you sampled in `3.1.1` ([HINT](https://docs.scipy.org/doc/numpy-1.15.0/reference/generated/numpy.random.permutation.html))\n",
    "2. Stack the new array with the original data into a single 2-D array of shape (100000, 2) ([HINT](https://docs.scipy.org/doc/numpy/reference/generated/numpy.stack.html))\n",
    "3. Average the newly formed 2-D array by 2nd dimension (i.e. mean with `axis=1`)"
   ]
  },
  {
   "cell_type": "code",
   "execution_count": null,
   "metadata": {},
   "outputs": [],
   "source": []
  },
  {
   "cell_type": "markdown",
   "metadata": {},
   "source": [
    "#### 3.1.4 Similarly to `3.1.2`, plot the distribution of the pairs. What distribution does it look like? [1.5%]"
   ]
  },
  {
   "cell_type": "code",
   "execution_count": null,
   "metadata": {},
   "outputs": [],
   "source": []
  },
  {
   "cell_type": "markdown",
   "metadata": {},
   "source": [
    "#### 3.1.5 Compute the mean and standard deviation of the original data and the newly formed data. [1.5%]"
   ]
  },
  {
   "cell_type": "code",
   "execution_count": null,
   "metadata": {},
   "outputs": [],
   "source": []
  },
  {
   "cell_type": "markdown",
   "metadata": {},
   "source": [
    "#### 3.1.6 Repeat `3.1.3`, `3.1.4` and `3.1.5` for $n=5$. In one sentence, describe how the distribution have changed? Namely think about how the mean $\\mu$ and stardard deviation $\\sigma$ changed. [1%]\n",
    "HINT: Similarly to `3.1.3`, shuffle the original data 4 times and then stack into a 2-D array of shape (100000,5). The remaining steps will be the same"
   ]
  },
  {
   "cell_type": "code",
   "execution_count": null,
   "metadata": {},
   "outputs": [],
   "source": []
  },
  {
   "cell_type": "markdown",
   "metadata": {},
   "source": [
    "#### 3.1.7 Now, do the same for $n=10$. [0.5%]"
   ]
  },
  {
   "cell_type": "code",
   "execution_count": null,
   "metadata": {},
   "outputs": [],
   "source": []
  },
  {
   "cell_type": "markdown",
   "metadata": {},
   "source": [
    "### 3.2 Hypothesis Testing [total of 10%] "
   ]
  },
  {
   "cell_type": "markdown",
   "metadata": {},
   "source": [
    "In the following cell, there are data for a given experiment with 2 samples (Control group and Experimental group) with $n=30$ and $\\sigma=2.9$."
   ]
  },
  {
   "cell_type": "code",
   "execution_count": null,
   "metadata": {
    "scrolled": true
   },
   "outputs": [],
   "source": [
    "# DO NOT CHANGE ANYTHING IN THIS CELL\n",
    "data = np.array([[12.72,  8.83, 14.14, 14.49,  7.15,  8.53, 10.31, 10.59, 14.5 ,\n",
    "        15.57, 11.67, 11.46, 20.96, 11.2 ,  9.61, 15.69, 13.04, 12.79,\n",
    "         7.6 , 10.23,  5.63, 10.64, 10.5 ,  8.07, 13.01, 10.43, 11.47,\n",
    "        11.18, 10.41, 11.71],\n",
    "       [23.62, 15.67, 23.82, 15.43, 22.04, 23.02, 19.82, 17.13, 20.35,\n",
    "        28.82, 22.32, 20.53, 21.46, 16.86, 19.16, 15.53, 19.74, 15.92,\n",
    "        17.69, 20.68, 19.13, 20.51, 20.99, 15.15, 24.42, 22.73, 23.5 ,\n",
    "        18.18, 16.37, 18.89]]).transpose()\n",
    "\n",
    "df = pd.DataFrame(data, columns=[\"Control\", \"Experimental\"])\n",
    "df"
   ]
  },
  {
   "cell_type": "markdown",
   "metadata": {},
   "source": [
    "#### 3.2.1 Show whether there exists a statistically significnat difference between the \"Control\" group and the \"Experimentla group at the $\\alpha = 0.05$ level of significnace using Hypothesis testing (assume $\\sigma = 2.9$) [8%]"
   ]
  },
  {
   "cell_type": "markdown",
   "metadata": {},
   "source": [
    "#### 3.2.2 Now, confirm the above result of your Hypothesis test using Confidence intervals [total of 2%]"
   ]
  },
  {
   "cell_type": "markdown",
   "metadata": {},
   "source": [
    "## Additional Question [BONUS]"
   ]
  },
  {
   "cell_type": "markdown",
   "metadata": {},
   "source": [
    "*All regular homework questions must be completed to receive any bonus points.*"
   ]
  },
  {
   "cell_type": "markdown",
   "metadata": {},
   "source": [
    "#### 4.1 Bayes theorem [total of 5% extra]\n",
    "Emma has lost her watch in either classroom $A$ (with a probability $0.4$) or in classroom $B$ (with a probability $0.6$). On any given break, if the watch is in $A$ and Emma spends the break searching for it in $A$, the conditional probability that she will find the watch during that break is $0.25$. Similarly, if the watch is in $B$ and Emma spends a break looking for it there, the conditional probability that she will find the watch during that break is $0.15$. The watch cannot be moved from one classroom to the other. Emma can search only during the break between classes, and she can move from one classroom to the other only during classes.\n",
    "\n",
    "1. In which classroom should Emma look to maximize the probability that she finds her watch on the first\n",
    "    break of the search?\n",
    "2. Given that Emma looked in $A$ during the first break but didn’t find her watch, what is the probability\n",
    "    that the watch is in $A$?\n",
    "3. If Emma flips a fair coin to determine where to look during the first break and finds the watch during\n",
    "    the first break, what is the probability that she looked in $A$?\n",
    "4. If the watch is not stolen and not found by the Nth break of the search, it will be stolen that break\n",
    "    with probability $\\frac{N}{N+2}$. Emma has decided to look in $A$ during the first two breaks. What is the\n",
    "    probability that she will find her watch for the first time during the second break?\n",
    "    \n",
    "##### Refresher:\n",
    "* **Law of total probability** $$P(A) = \\sum_{n}{P(A|B_{n}) P(B_{n})}$$\n",
    "* **Bayes theorem** - $$P(B|A) = \\frac{P(A|B) P(B)}{P(A)}$$"
   ]
  },
  {
   "cell_type": "markdown",
   "metadata": {},
   "source": [
    "**Type your answer in this cell**\n",
    "\n",
    "Use $\\LaTeX$ where appropriate"
   ]
  },
  {
   "cell_type": "markdown",
   "metadata": {},
   "source": [
    "#### 4.2 Kaggle exploratory data analysis [total of 10% extra]"
   ]
  },
  {
   "cell_type": "markdown",
   "metadata": {},
   "source": [
    "This is more of an open-ended question related to the on-going [Kaggle](https://www.kaggle.com/) competition: [Elo Merchant Category Recommendation](https://www.kaggle.com/c/elo-merchant-category-recommendation). In order to get the extra credit you need to **either**:\n",
    "\n",
    "* Download the [data](https://www.kaggle.com/c/elo-merchant-category-recommendation/data), create a new Jupyter Notebook (outside of this one) and perform an exploratory data analysis of your own. Your submission will then be the **.ipynb file** with EDA of the competition data.\n",
    "* Create a [Kaggle kernel](https://www.kaggle.com/c/elo-merchant-category-recommendation/kernels) (i.e. a Jupyter notebook that runs on Kaggle's infrastructure). Your submission will then be the **URL** to the Kaggle kernel.\n",
    "\n",
    "Feel free look for inspiration in other Kaggle kernels, **however do not copy/paste any code without citing the source.** If you do copy a piece of code without the appropriate resource citing, you will be deducted 1 point. In order to receive the extra credit, at least 50% of the notebook should be your own work. This question will be graded on a continuous scale, the more extensive your analysis, the more points will be attributed."
   ]
  }
 ],
 "metadata": {
  "kernelspec": {
   "display_name": "Python 3",
   "language": "python",
   "name": "python3"
  },
  "language_info": {
   "codemirror_mode": {
    "name": "ipython",
    "version": 3
   },
   "file_extension": ".py",
   "mimetype": "text/x-python",
   "name": "python",
   "nbconvert_exporter": "python",
   "pygments_lexer": "ipython3",
   "version": "3.6.5"
  }
 },
 "nbformat": 4,
 "nbformat_minor": 2
}
