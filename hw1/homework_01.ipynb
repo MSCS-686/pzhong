{
 "cells": [
  {
   "cell_type": "markdown",
   "metadata": {},
   "source": [
    "# Homework Assignment #1"
   ]
  },
  {
   "cell_type": "markdown",
   "metadata": {},
   "source": [
    "*due Tuesday, February 5, 2019 by 11:59pm*\n",
    "\n",
    "This homework is worth **10 points** [100%] with the option to score **extra 1.5 points [15%]** if you submit the additional questions."
   ]
  },
  {
   "cell_type": "markdown",
   "metadata": {},
   "source": [
    "### n.b.\n",
    "All deliverables are required to be typed and all graphs and statistical output generated in Jupyter Notebook using Python and associated packages. Deliverables with *any* handwritten elements will not be accepted and will receive a grade of zero. \n",
    "\n",
    "You are required to upload the ```ipynb``` file to **your private GitHub repository within the MSCS686 organization** as the deliverable. Use the ```homework_01.ipynb``` file as a template and write the answers in text and include relevant code below each question. "
   ]
  },
  {
   "cell_type": "code",
   "execution_count": 2,
   "metadata": {},
   "outputs": [],
   "source": [
    "import os\n",
    "import numpy as np\n",
    "import pandas as pd\n",
    "import matplotlib.pyplot as plt\n",
    "import seaborn as sns\n",
    "%matplotlib inline"
   ]
  },
  {
   "cell_type": "markdown",
   "metadata": {},
   "source": [
    "### Data\n",
    "Make sure you completed the following:\n",
    "* Created `data` directory in the `hw1` folder\n",
    "* Downloaded the [housing data](https://s3-us-west-1.amazonaws.com/usfca-cs686-ml/hw1/housing.csv) to the `data` directory"
   ]
  },
  {
   "cell_type": "code",
   "execution_count": 3,
   "metadata": {},
   "outputs": [],
   "source": [
    "# Path to housing.csv\n",
    "data_path = os.path.join(\"data\", \"housing.csv\")\n",
    "\n",
    "if not os.path.exists(data_path):\n",
    "    print(\"Download data first!\")"
   ]
  },
  {
   "cell_type": "markdown",
   "metadata": {},
   "source": [
    "## Part 1: Read & clean data [total of 50%]"
   ]
  },
  {
   "cell_type": "markdown",
   "metadata": {},
   "source": [
    "#### 1.1 Read the data to a pandas DataFrame, print the first 7 entries [10%]\n",
    "**IMPORTANT**: Read the data so that **`Id`** is set as the index column.<br/>\n",
    "HINT: Refer to the [docs](https://pandas.pydata.org/pandas-docs/stable/index.html)"
   ]
  },
  {
   "cell_type": "code",
   "execution_count": 44,
   "metadata": {},
   "outputs": [
    {
     "data": {
      "text/html": [
       "<div>\n",
       "<style scoped>\n",
       "    .dataframe tbody tr th:only-of-type {\n",
       "        vertical-align: middle;\n",
       "    }\n",
       "\n",
       "    .dataframe tbody tr th {\n",
       "        vertical-align: top;\n",
       "    }\n",
       "\n",
       "    .dataframe thead th {\n",
       "        text-align: right;\n",
       "    }\n",
       "</style>\n",
       "<table border=\"1\" class=\"dataframe\">\n",
       "  <thead>\n",
       "    <tr style=\"text-align: right;\">\n",
       "      <th></th>\n",
       "      <th>MSSubClass</th>\n",
       "      <th>MSZoning</th>\n",
       "      <th>LotFrontage</th>\n",
       "      <th>LotArea</th>\n",
       "      <th>Street</th>\n",
       "      <th>Alley</th>\n",
       "      <th>LotShape</th>\n",
       "      <th>LandContour</th>\n",
       "      <th>Utilities</th>\n",
       "      <th>LotConfig</th>\n",
       "      <th>...</th>\n",
       "      <th>PoolArea</th>\n",
       "      <th>PoolQC</th>\n",
       "      <th>Fence</th>\n",
       "      <th>MiscFeature</th>\n",
       "      <th>MiscVal</th>\n",
       "      <th>MoSold</th>\n",
       "      <th>YrSold</th>\n",
       "      <th>SaleType</th>\n",
       "      <th>SaleCondition</th>\n",
       "      <th>SalePrice</th>\n",
       "    </tr>\n",
       "    <tr>\n",
       "      <th>Id</th>\n",
       "      <th></th>\n",
       "      <th></th>\n",
       "      <th></th>\n",
       "      <th></th>\n",
       "      <th></th>\n",
       "      <th></th>\n",
       "      <th></th>\n",
       "      <th></th>\n",
       "      <th></th>\n",
       "      <th></th>\n",
       "      <th></th>\n",
       "      <th></th>\n",
       "      <th></th>\n",
       "      <th></th>\n",
       "      <th></th>\n",
       "      <th></th>\n",
       "      <th></th>\n",
       "      <th></th>\n",
       "      <th></th>\n",
       "      <th></th>\n",
       "      <th></th>\n",
       "    </tr>\n",
       "  </thead>\n",
       "  <tbody>\n",
       "    <tr>\n",
       "      <th>1</th>\n",
       "      <td>60</td>\n",
       "      <td>RL</td>\n",
       "      <td>65.0</td>\n",
       "      <td>8450</td>\n",
       "      <td>Pave</td>\n",
       "      <td>NaN</td>\n",
       "      <td>Reg</td>\n",
       "      <td>Lvl</td>\n",
       "      <td>AllPub</td>\n",
       "      <td>Inside</td>\n",
       "      <td>...</td>\n",
       "      <td>0</td>\n",
       "      <td>NaN</td>\n",
       "      <td>NaN</td>\n",
       "      <td>NaN</td>\n",
       "      <td>0</td>\n",
       "      <td>2</td>\n",
       "      <td>2008</td>\n",
       "      <td>WD</td>\n",
       "      <td>Normal</td>\n",
       "      <td>208500</td>\n",
       "    </tr>\n",
       "    <tr>\n",
       "      <th>2</th>\n",
       "      <td>20</td>\n",
       "      <td>RL</td>\n",
       "      <td>80.0</td>\n",
       "      <td>9600</td>\n",
       "      <td>Pave</td>\n",
       "      <td>NaN</td>\n",
       "      <td>Reg</td>\n",
       "      <td>Lvl</td>\n",
       "      <td>AllPub</td>\n",
       "      <td>FR2</td>\n",
       "      <td>...</td>\n",
       "      <td>0</td>\n",
       "      <td>NaN</td>\n",
       "      <td>NaN</td>\n",
       "      <td>NaN</td>\n",
       "      <td>0</td>\n",
       "      <td>5</td>\n",
       "      <td>2007</td>\n",
       "      <td>WD</td>\n",
       "      <td>Normal</td>\n",
       "      <td>181500</td>\n",
       "    </tr>\n",
       "    <tr>\n",
       "      <th>3</th>\n",
       "      <td>60</td>\n",
       "      <td>RL</td>\n",
       "      <td>68.0</td>\n",
       "      <td>11250</td>\n",
       "      <td>Pave</td>\n",
       "      <td>NaN</td>\n",
       "      <td>IR1</td>\n",
       "      <td>Lvl</td>\n",
       "      <td>AllPub</td>\n",
       "      <td>Inside</td>\n",
       "      <td>...</td>\n",
       "      <td>0</td>\n",
       "      <td>NaN</td>\n",
       "      <td>NaN</td>\n",
       "      <td>NaN</td>\n",
       "      <td>0</td>\n",
       "      <td>9</td>\n",
       "      <td>2008</td>\n",
       "      <td>WD</td>\n",
       "      <td>Normal</td>\n",
       "      <td>223500</td>\n",
       "    </tr>\n",
       "    <tr>\n",
       "      <th>4</th>\n",
       "      <td>70</td>\n",
       "      <td>RL</td>\n",
       "      <td>60.0</td>\n",
       "      <td>9550</td>\n",
       "      <td>Pave</td>\n",
       "      <td>NaN</td>\n",
       "      <td>IR1</td>\n",
       "      <td>Lvl</td>\n",
       "      <td>AllPub</td>\n",
       "      <td>Corner</td>\n",
       "      <td>...</td>\n",
       "      <td>0</td>\n",
       "      <td>NaN</td>\n",
       "      <td>NaN</td>\n",
       "      <td>NaN</td>\n",
       "      <td>0</td>\n",
       "      <td>2</td>\n",
       "      <td>2006</td>\n",
       "      <td>WD</td>\n",
       "      <td>Abnorml</td>\n",
       "      <td>140000</td>\n",
       "    </tr>\n",
       "    <tr>\n",
       "      <th>5</th>\n",
       "      <td>60</td>\n",
       "      <td>RL</td>\n",
       "      <td>84.0</td>\n",
       "      <td>14260</td>\n",
       "      <td>Pave</td>\n",
       "      <td>NaN</td>\n",
       "      <td>IR1</td>\n",
       "      <td>Lvl</td>\n",
       "      <td>AllPub</td>\n",
       "      <td>FR2</td>\n",
       "      <td>...</td>\n",
       "      <td>0</td>\n",
       "      <td>NaN</td>\n",
       "      <td>NaN</td>\n",
       "      <td>NaN</td>\n",
       "      <td>0</td>\n",
       "      <td>12</td>\n",
       "      <td>2008</td>\n",
       "      <td>WD</td>\n",
       "      <td>Normal</td>\n",
       "      <td>250000</td>\n",
       "    </tr>\n",
       "    <tr>\n",
       "      <th>6</th>\n",
       "      <td>50</td>\n",
       "      <td>RL</td>\n",
       "      <td>85.0</td>\n",
       "      <td>14115</td>\n",
       "      <td>Pave</td>\n",
       "      <td>NaN</td>\n",
       "      <td>IR1</td>\n",
       "      <td>Lvl</td>\n",
       "      <td>AllPub</td>\n",
       "      <td>Inside</td>\n",
       "      <td>...</td>\n",
       "      <td>0</td>\n",
       "      <td>NaN</td>\n",
       "      <td>MnPrv</td>\n",
       "      <td>Shed</td>\n",
       "      <td>700</td>\n",
       "      <td>10</td>\n",
       "      <td>2009</td>\n",
       "      <td>WD</td>\n",
       "      <td>Normal</td>\n",
       "      <td>143000</td>\n",
       "    </tr>\n",
       "    <tr>\n",
       "      <th>7</th>\n",
       "      <td>20</td>\n",
       "      <td>RL</td>\n",
       "      <td>75.0</td>\n",
       "      <td>10084</td>\n",
       "      <td>Pave</td>\n",
       "      <td>NaN</td>\n",
       "      <td>Reg</td>\n",
       "      <td>Lvl</td>\n",
       "      <td>AllPub</td>\n",
       "      <td>Inside</td>\n",
       "      <td>...</td>\n",
       "      <td>0</td>\n",
       "      <td>NaN</td>\n",
       "      <td>NaN</td>\n",
       "      <td>NaN</td>\n",
       "      <td>0</td>\n",
       "      <td>8</td>\n",
       "      <td>2007</td>\n",
       "      <td>WD</td>\n",
       "      <td>Normal</td>\n",
       "      <td>307000</td>\n",
       "    </tr>\n",
       "  </tbody>\n",
       "</table>\n",
       "<p>7 rows × 80 columns</p>\n",
       "</div>"
      ],
      "text/plain": [
       "    MSSubClass MSZoning  LotFrontage  LotArea Street Alley LotShape  \\\n",
       "Id                                                                    \n",
       "1           60       RL         65.0     8450   Pave   NaN      Reg   \n",
       "2           20       RL         80.0     9600   Pave   NaN      Reg   \n",
       "3           60       RL         68.0    11250   Pave   NaN      IR1   \n",
       "4           70       RL         60.0     9550   Pave   NaN      IR1   \n",
       "5           60       RL         84.0    14260   Pave   NaN      IR1   \n",
       "6           50       RL         85.0    14115   Pave   NaN      IR1   \n",
       "7           20       RL         75.0    10084   Pave   NaN      Reg   \n",
       "\n",
       "   LandContour Utilities LotConfig    ...     PoolArea PoolQC  Fence  \\\n",
       "Id                                    ...                              \n",
       "1          Lvl    AllPub    Inside    ...            0    NaN    NaN   \n",
       "2          Lvl    AllPub       FR2    ...            0    NaN    NaN   \n",
       "3          Lvl    AllPub    Inside    ...            0    NaN    NaN   \n",
       "4          Lvl    AllPub    Corner    ...            0    NaN    NaN   \n",
       "5          Lvl    AllPub       FR2    ...            0    NaN    NaN   \n",
       "6          Lvl    AllPub    Inside    ...            0    NaN  MnPrv   \n",
       "7          Lvl    AllPub    Inside    ...            0    NaN    NaN   \n",
       "\n",
       "   MiscFeature MiscVal MoSold  YrSold  SaleType  SaleCondition  SalePrice  \n",
       "Id                                                                         \n",
       "1          NaN       0      2    2008        WD         Normal     208500  \n",
       "2          NaN       0      5    2007        WD         Normal     181500  \n",
       "3          NaN       0      9    2008        WD         Normal     223500  \n",
       "4          NaN       0      2    2006        WD        Abnorml     140000  \n",
       "5          NaN       0     12    2008        WD         Normal     250000  \n",
       "6         Shed     700     10    2009        WD         Normal     143000  \n",
       "7          NaN       0      8    2007        WD         Normal     307000  \n",
       "\n",
       "[7 rows x 80 columns]"
      ]
     },
     "execution_count": 44,
     "metadata": {},
     "output_type": "execute_result"
    }
   ],
   "source": [
    "df = pd.read_csv(\"data/housing.csv\", index_col=\"Id\")\n",
    "df.head(7)"
   ]
  },
  {
   "cell_type": "markdown",
   "metadata": {},
   "source": [
    "#### 1.2 Print the names of columns, and number of rows and columns in the DataFrame [10%]"
   ]
  },
  {
   "cell_type": "code",
   "execution_count": 5,
   "metadata": {},
   "outputs": [
    {
     "name": "stdout",
     "output_type": "stream",
     "text": [
      "Columns values: ['MSSubClass' 'MSZoning' 'LotFrontage' 'LotArea' 'Street' 'Alley'\n",
      " 'LotShape' 'LandContour' 'Utilities' 'LotConfig' 'LandSlope'\n",
      " 'Neighborhood' 'Condition1' 'Condition2' 'BldgType' 'HouseStyle'\n",
      " 'OverallQual' 'OverallCond' 'YearBuilt' 'YearRemodAdd' 'RoofStyle'\n",
      " 'RoofMatl' 'Exterior1st' 'Exterior2nd' 'MasVnrType' 'MasVnrArea'\n",
      " 'ExterQual' 'ExterCond' 'Foundation' 'BsmtQual' 'BsmtCond' 'BsmtExposure'\n",
      " 'BsmtFinType1' 'BsmtFinSF1' 'BsmtFinType2' 'BsmtFinSF2' 'BsmtUnfSF'\n",
      " 'TotalBsmtSF' 'Heating' 'HeatingQC' 'CentralAir' 'Electrical' '1stFlrSF'\n",
      " '2ndFlrSF' 'LowQualFinSF' 'GrLivArea' 'BsmtFullBath' 'BsmtHalfBath'\n",
      " 'FullBath' 'HalfBath' 'BedroomAbvGr' 'KitchenAbvGr' 'KitchenQual'\n",
      " 'TotRmsAbvGrd' 'Functional' 'Fireplaces' 'FireplaceQu' 'GarageType'\n",
      " 'GarageYrBlt' 'GarageFinish' 'GarageCars' 'GarageArea' 'GarageQual'\n",
      " 'GarageCond' 'PavedDrive' 'WoodDeckSF' 'OpenPorchSF' 'EnclosedPorch'\n",
      " '3SsnPorch' 'ScreenPorch' 'PoolArea' 'PoolQC' 'Fence' 'MiscFeature'\n",
      " 'MiscVal' 'MoSold' 'YrSold' 'SaleType' 'SaleCondition' 'SalePrice']\n",
      "Number of columns: 80\n",
      "Number of rows: 1460\n"
     ]
    }
   ],
   "source": [
    "print(\"Columns values:\", df.columns.values)\n",
    "print(\"Number of columns:\", len(df.columns))\n",
    "print(\"Number of rows:\", len(df.index))"
   ]
  },
  {
   "cell_type": "markdown",
   "metadata": {},
   "source": [
    "#### 1.3"
   ]
  },
  {
   "cell_type": "markdown",
   "metadata": {},
   "source": [
    "#### (a) Create a subset of original dataset with the  rows 200 to 1400 and the columns according to the list below. [5%]"
   ]
  },
  {
   "cell_type": "code",
   "execution_count": 6,
   "metadata": {},
   "outputs": [],
   "source": [
    "# DO NOT CHANGE THIS CELL\n",
    "cols = ['LotFrontage', 'LotArea', 'Neighborhood', 'OverallCond', 'YearBuilt', 'YrSold', 'GrLivArea', '1stFlrSF', '2ndFlrSF',\n",
    "       'SaleCondition', 'SalePrice']"
   ]
  },
  {
   "cell_type": "code",
   "execution_count": 7,
   "metadata": {},
   "outputs": [],
   "source": [
    "subdf = df.loc[200:1400, cols]"
   ]
  },
  {
   "cell_type": "markdown",
   "metadata": {},
   "source": [
    "#### (b) Rename column`YrSold` to `YearSold` [5%]"
   ]
  },
  {
   "cell_type": "code",
   "execution_count": 8,
   "metadata": {},
   "outputs": [],
   "source": [
    "subdf.rename(columns={'YrSold': 'YearSold'}, inplace=True)"
   ]
  },
  {
   "cell_type": "markdown",
   "metadata": {},
   "source": [
    "#### 1.4 Some values in the `LotFrontage` column are missing, fill them with *average* value [10%]"
   ]
  },
  {
   "cell_type": "code",
   "execution_count": 9,
   "metadata": {},
   "outputs": [
    {
     "data": {
      "text/html": [
       "<div>\n",
       "<style scoped>\n",
       "    .dataframe tbody tr th:only-of-type {\n",
       "        vertical-align: middle;\n",
       "    }\n",
       "\n",
       "    .dataframe tbody tr th {\n",
       "        vertical-align: top;\n",
       "    }\n",
       "\n",
       "    .dataframe thead th {\n",
       "        text-align: right;\n",
       "    }\n",
       "</style>\n",
       "<table border=\"1\" class=\"dataframe\">\n",
       "  <thead>\n",
       "    <tr style=\"text-align: right;\">\n",
       "      <th></th>\n",
       "      <th>LotFrontage</th>\n",
       "      <th>LotArea</th>\n",
       "      <th>Neighborhood</th>\n",
       "      <th>OverallCond</th>\n",
       "      <th>YearBuilt</th>\n",
       "      <th>YearSold</th>\n",
       "      <th>GrLivArea</th>\n",
       "      <th>1stFlrSF</th>\n",
       "      <th>2ndFlrSF</th>\n",
       "      <th>SaleCondition</th>\n",
       "      <th>SalePrice</th>\n",
       "    </tr>\n",
       "    <tr>\n",
       "      <th>Id</th>\n",
       "      <th></th>\n",
       "      <th></th>\n",
       "      <th></th>\n",
       "      <th></th>\n",
       "      <th></th>\n",
       "      <th></th>\n",
       "      <th></th>\n",
       "      <th></th>\n",
       "      <th></th>\n",
       "      <th></th>\n",
       "      <th></th>\n",
       "    </tr>\n",
       "  </thead>\n",
       "  <tbody>\n",
       "    <tr>\n",
       "      <th>200</th>\n",
       "      <td>76.00000</td>\n",
       "      <td>9591</td>\n",
       "      <td>NridgHt</td>\n",
       "      <td>5</td>\n",
       "      <td>2004</td>\n",
       "      <td>2009</td>\n",
       "      <td>1713</td>\n",
       "      <td>1713</td>\n",
       "      <td>0</td>\n",
       "      <td>Normal</td>\n",
       "      <td>274900</td>\n",
       "    </tr>\n",
       "    <tr>\n",
       "      <th>201</th>\n",
       "      <td>80.00000</td>\n",
       "      <td>8546</td>\n",
       "      <td>Edwards</td>\n",
       "      <td>5</td>\n",
       "      <td>2003</td>\n",
       "      <td>2010</td>\n",
       "      <td>1121</td>\n",
       "      <td>1121</td>\n",
       "      <td>0</td>\n",
       "      <td>Normal</td>\n",
       "      <td>140000</td>\n",
       "    </tr>\n",
       "    <tr>\n",
       "      <th>202</th>\n",
       "      <td>75.00000</td>\n",
       "      <td>10125</td>\n",
       "      <td>Mitchel</td>\n",
       "      <td>6</td>\n",
       "      <td>1977</td>\n",
       "      <td>2008</td>\n",
       "      <td>1279</td>\n",
       "      <td>1279</td>\n",
       "      <td>0</td>\n",
       "      <td>Normal</td>\n",
       "      <td>171500</td>\n",
       "    </tr>\n",
       "    <tr>\n",
       "      <th>203</th>\n",
       "      <td>50.00000</td>\n",
       "      <td>7000</td>\n",
       "      <td>OldTown</td>\n",
       "      <td>6</td>\n",
       "      <td>1924</td>\n",
       "      <td>2006</td>\n",
       "      <td>1310</td>\n",
       "      <td>865</td>\n",
       "      <td>445</td>\n",
       "      <td>Normal</td>\n",
       "      <td>112000</td>\n",
       "    </tr>\n",
       "    <tr>\n",
       "      <th>204</th>\n",
       "      <td>69.84919</td>\n",
       "      <td>4438</td>\n",
       "      <td>CollgCr</td>\n",
       "      <td>5</td>\n",
       "      <td>2004</td>\n",
       "      <td>2008</td>\n",
       "      <td>848</td>\n",
       "      <td>848</td>\n",
       "      <td>0</td>\n",
       "      <td>Normal</td>\n",
       "      <td>149000</td>\n",
       "    </tr>\n",
       "    <tr>\n",
       "      <th>205</th>\n",
       "      <td>50.00000</td>\n",
       "      <td>3500</td>\n",
       "      <td>OldTown</td>\n",
       "      <td>7</td>\n",
       "      <td>1947</td>\n",
       "      <td>2009</td>\n",
       "      <td>1284</td>\n",
       "      <td>720</td>\n",
       "      <td>564</td>\n",
       "      <td>Normal</td>\n",
       "      <td>110000</td>\n",
       "    </tr>\n",
       "    <tr>\n",
       "      <th>206</th>\n",
       "      <td>99.00000</td>\n",
       "      <td>11851</td>\n",
       "      <td>Gilbert</td>\n",
       "      <td>5</td>\n",
       "      <td>1990</td>\n",
       "      <td>2009</td>\n",
       "      <td>1442</td>\n",
       "      <td>1442</td>\n",
       "      <td>0</td>\n",
       "      <td>Normal</td>\n",
       "      <td>180500</td>\n",
       "    </tr>\n",
       "    <tr>\n",
       "      <th>207</th>\n",
       "      <td>40.00000</td>\n",
       "      <td>13673</td>\n",
       "      <td>Sawyer</td>\n",
       "      <td>5</td>\n",
       "      <td>1962</td>\n",
       "      <td>2007</td>\n",
       "      <td>1696</td>\n",
       "      <td>1696</td>\n",
       "      <td>0</td>\n",
       "      <td>Normal</td>\n",
       "      <td>143900</td>\n",
       "    </tr>\n",
       "    <tr>\n",
       "      <th>208</th>\n",
       "      <td>69.84919</td>\n",
       "      <td>12493</td>\n",
       "      <td>NAmes</td>\n",
       "      <td>5</td>\n",
       "      <td>1960</td>\n",
       "      <td>2008</td>\n",
       "      <td>1100</td>\n",
       "      <td>1100</td>\n",
       "      <td>0</td>\n",
       "      <td>Normal</td>\n",
       "      <td>141000</td>\n",
       "    </tr>\n",
       "    <tr>\n",
       "      <th>209</th>\n",
       "      <td>69.84919</td>\n",
       "      <td>14364</td>\n",
       "      <td>SawyerW</td>\n",
       "      <td>5</td>\n",
       "      <td>1988</td>\n",
       "      <td>2007</td>\n",
       "      <td>2062</td>\n",
       "      <td>1180</td>\n",
       "      <td>882</td>\n",
       "      <td>Normal</td>\n",
       "      <td>277000</td>\n",
       "    </tr>\n",
       "    <tr>\n",
       "      <th>210</th>\n",
       "      <td>75.00000</td>\n",
       "      <td>8250</td>\n",
       "      <td>NAmes</td>\n",
       "      <td>7</td>\n",
       "      <td>1964</td>\n",
       "      <td>2008</td>\n",
       "      <td>1092</td>\n",
       "      <td>1092</td>\n",
       "      <td>0</td>\n",
       "      <td>Normal</td>\n",
       "      <td>145000</td>\n",
       "    </tr>\n",
       "    <tr>\n",
       "      <th>211</th>\n",
       "      <td>67.00000</td>\n",
       "      <td>5604</td>\n",
       "      <td>Edwards</td>\n",
       "      <td>6</td>\n",
       "      <td>1925</td>\n",
       "      <td>2008</td>\n",
       "      <td>864</td>\n",
       "      <td>864</td>\n",
       "      <td>0</td>\n",
       "      <td>Normal</td>\n",
       "      <td>98000</td>\n",
       "    </tr>\n",
       "    <tr>\n",
       "      <th>212</th>\n",
       "      <td>83.00000</td>\n",
       "      <td>10420</td>\n",
       "      <td>Edwards</td>\n",
       "      <td>5</td>\n",
       "      <td>2009</td>\n",
       "      <td>2010</td>\n",
       "      <td>1212</td>\n",
       "      <td>1212</td>\n",
       "      <td>0</td>\n",
       "      <td>Normal</td>\n",
       "      <td>186000</td>\n",
       "    </tr>\n",
       "    <tr>\n",
       "      <th>213</th>\n",
       "      <td>72.00000</td>\n",
       "      <td>8640</td>\n",
       "      <td>Somerst</td>\n",
       "      <td>5</td>\n",
       "      <td>2009</td>\n",
       "      <td>2009</td>\n",
       "      <td>1852</td>\n",
       "      <td>932</td>\n",
       "      <td>920</td>\n",
       "      <td>Partial</td>\n",
       "      <td>252678</td>\n",
       "    </tr>\n",
       "    <tr>\n",
       "      <th>214</th>\n",
       "      <td>43.00000</td>\n",
       "      <td>13568</td>\n",
       "      <td>CollgCr</td>\n",
       "      <td>5</td>\n",
       "      <td>1995</td>\n",
       "      <td>2006</td>\n",
       "      <td>990</td>\n",
       "      <td>990</td>\n",
       "      <td>0</td>\n",
       "      <td>Normal</td>\n",
       "      <td>156000</td>\n",
       "    </tr>\n",
       "    <tr>\n",
       "      <th>215</th>\n",
       "      <td>69.84919</td>\n",
       "      <td>10900</td>\n",
       "      <td>CollgCr</td>\n",
       "      <td>7</td>\n",
       "      <td>1977</td>\n",
       "      <td>2010</td>\n",
       "      <td>1392</td>\n",
       "      <td>689</td>\n",
       "      <td>703</td>\n",
       "      <td>Normal</td>\n",
       "      <td>161750</td>\n",
       "    </tr>\n",
       "    <tr>\n",
       "      <th>216</th>\n",
       "      <td>72.00000</td>\n",
       "      <td>10011</td>\n",
       "      <td>NAmes</td>\n",
       "      <td>6</td>\n",
       "      <td>1957</td>\n",
       "      <td>2006</td>\n",
       "      <td>1236</td>\n",
       "      <td>1236</td>\n",
       "      <td>0</td>\n",
       "      <td>Normal</td>\n",
       "      <td>134450</td>\n",
       "    </tr>\n",
       "    <tr>\n",
       "      <th>217</th>\n",
       "      <td>65.00000</td>\n",
       "      <td>8450</td>\n",
       "      <td>CollgCr</td>\n",
       "      <td>5</td>\n",
       "      <td>2004</td>\n",
       "      <td>2008</td>\n",
       "      <td>1436</td>\n",
       "      <td>1436</td>\n",
       "      <td>0</td>\n",
       "      <td>Normal</td>\n",
       "      <td>210000</td>\n",
       "    </tr>\n",
       "    <tr>\n",
       "      <th>218</th>\n",
       "      <td>57.00000</td>\n",
       "      <td>9906</td>\n",
       "      <td>OldTown</td>\n",
       "      <td>4</td>\n",
       "      <td>1925</td>\n",
       "      <td>2006</td>\n",
       "      <td>1328</td>\n",
       "      <td>810</td>\n",
       "      <td>518</td>\n",
       "      <td>Family</td>\n",
       "      <td>107000</td>\n",
       "    </tr>\n",
       "    <tr>\n",
       "      <th>219</th>\n",
       "      <td>69.84919</td>\n",
       "      <td>15660</td>\n",
       "      <td>Crawfor</td>\n",
       "      <td>9</td>\n",
       "      <td>1939</td>\n",
       "      <td>2008</td>\n",
       "      <td>1954</td>\n",
       "      <td>1137</td>\n",
       "      <td>817</td>\n",
       "      <td>Normal</td>\n",
       "      <td>311500</td>\n",
       "    </tr>\n",
       "    <tr>\n",
       "      <th>220</th>\n",
       "      <td>43.00000</td>\n",
       "      <td>3010</td>\n",
       "      <td>Blmngtn</td>\n",
       "      <td>5</td>\n",
       "      <td>2005</td>\n",
       "      <td>2006</td>\n",
       "      <td>1248</td>\n",
       "      <td>1248</td>\n",
       "      <td>0</td>\n",
       "      <td>Partial</td>\n",
       "      <td>167240</td>\n",
       "    </tr>\n",
       "    <tr>\n",
       "      <th>221</th>\n",
       "      <td>73.00000</td>\n",
       "      <td>8990</td>\n",
       "      <td>CollgCr</td>\n",
       "      <td>5</td>\n",
       "      <td>2006</td>\n",
       "      <td>2006</td>\n",
       "      <td>1498</td>\n",
       "      <td>1498</td>\n",
       "      <td>0</td>\n",
       "      <td>Partial</td>\n",
       "      <td>204900</td>\n",
       "    </tr>\n",
       "    <tr>\n",
       "      <th>222</th>\n",
       "      <td>69.84919</td>\n",
       "      <td>8068</td>\n",
       "      <td>Gilbert</td>\n",
       "      <td>5</td>\n",
       "      <td>2002</td>\n",
       "      <td>2009</td>\n",
       "      <td>2267</td>\n",
       "      <td>1010</td>\n",
       "      <td>1257</td>\n",
       "      <td>Normal</td>\n",
       "      <td>200000</td>\n",
       "    </tr>\n",
       "    <tr>\n",
       "      <th>223</th>\n",
       "      <td>85.00000</td>\n",
       "      <td>11475</td>\n",
       "      <td>NWAmes</td>\n",
       "      <td>6</td>\n",
       "      <td>1975</td>\n",
       "      <td>2006</td>\n",
       "      <td>1552</td>\n",
       "      <td>811</td>\n",
       "      <td>741</td>\n",
       "      <td>Normal</td>\n",
       "      <td>179900</td>\n",
       "    </tr>\n",
       "    <tr>\n",
       "      <th>224</th>\n",
       "      <td>70.00000</td>\n",
       "      <td>10500</td>\n",
       "      <td>NAmes</td>\n",
       "      <td>6</td>\n",
       "      <td>1971</td>\n",
       "      <td>2009</td>\n",
       "      <td>864</td>\n",
       "      <td>864</td>\n",
       "      <td>0</td>\n",
       "      <td>Abnorml</td>\n",
       "      <td>97000</td>\n",
       "    </tr>\n",
       "    <tr>\n",
       "      <th>225</th>\n",
       "      <td>103.00000</td>\n",
       "      <td>13472</td>\n",
       "      <td>NridgHt</td>\n",
       "      <td>5</td>\n",
       "      <td>2003</td>\n",
       "      <td>2009</td>\n",
       "      <td>2392</td>\n",
       "      <td>2392</td>\n",
       "      <td>0</td>\n",
       "      <td>Normal</td>\n",
       "      <td>386250</td>\n",
       "    </tr>\n",
       "    <tr>\n",
       "      <th>226</th>\n",
       "      <td>21.00000</td>\n",
       "      <td>1680</td>\n",
       "      <td>BrDale</td>\n",
       "      <td>5</td>\n",
       "      <td>1971</td>\n",
       "      <td>2009</td>\n",
       "      <td>1302</td>\n",
       "      <td>630</td>\n",
       "      <td>672</td>\n",
       "      <td>Abnorml</td>\n",
       "      <td>112000</td>\n",
       "    </tr>\n",
       "    <tr>\n",
       "      <th>227</th>\n",
       "      <td>82.00000</td>\n",
       "      <td>9950</td>\n",
       "      <td>NoRidge</td>\n",
       "      <td>5</td>\n",
       "      <td>1995</td>\n",
       "      <td>2007</td>\n",
       "      <td>2520</td>\n",
       "      <td>1214</td>\n",
       "      <td>1306</td>\n",
       "      <td>Abnorml</td>\n",
       "      <td>290000</td>\n",
       "    </tr>\n",
       "    <tr>\n",
       "      <th>228</th>\n",
       "      <td>21.00000</td>\n",
       "      <td>1869</td>\n",
       "      <td>BrDale</td>\n",
       "      <td>6</td>\n",
       "      <td>1970</td>\n",
       "      <td>2008</td>\n",
       "      <td>987</td>\n",
       "      <td>483</td>\n",
       "      <td>504</td>\n",
       "      <td>Normal</td>\n",
       "      <td>106000</td>\n",
       "    </tr>\n",
       "    <tr>\n",
       "      <th>229</th>\n",
       "      <td>70.00000</td>\n",
       "      <td>8521</td>\n",
       "      <td>Sawyer</td>\n",
       "      <td>5</td>\n",
       "      <td>1967</td>\n",
       "      <td>2010</td>\n",
       "      <td>912</td>\n",
       "      <td>912</td>\n",
       "      <td>0</td>\n",
       "      <td>Normal</td>\n",
       "      <td>125000</td>\n",
       "    </tr>\n",
       "    <tr>\n",
       "      <th>...</th>\n",
       "      <td>...</td>\n",
       "      <td>...</td>\n",
       "      <td>...</td>\n",
       "      <td>...</td>\n",
       "      <td>...</td>\n",
       "      <td>...</td>\n",
       "      <td>...</td>\n",
       "      <td>...</td>\n",
       "      <td>...</td>\n",
       "      <td>...</td>\n",
       "      <td>...</td>\n",
       "    </tr>\n",
       "    <tr>\n",
       "      <th>1371</th>\n",
       "      <td>90.00000</td>\n",
       "      <td>5400</td>\n",
       "      <td>OldTown</td>\n",
       "      <td>6</td>\n",
       "      <td>1920</td>\n",
       "      <td>2009</td>\n",
       "      <td>1374</td>\n",
       "      <td>840</td>\n",
       "      <td>534</td>\n",
       "      <td>Normal</td>\n",
       "      <td>105000</td>\n",
       "    </tr>\n",
       "    <tr>\n",
       "      <th>1372</th>\n",
       "      <td>80.00000</td>\n",
       "      <td>9600</td>\n",
       "      <td>NAmes</td>\n",
       "      <td>6</td>\n",
       "      <td>1955</td>\n",
       "      <td>2008</td>\n",
       "      <td>1661</td>\n",
       "      <td>1661</td>\n",
       "      <td>0</td>\n",
       "      <td>Normal</td>\n",
       "      <td>165500</td>\n",
       "    </tr>\n",
       "    <tr>\n",
       "      <th>1373</th>\n",
       "      <td>75.00000</td>\n",
       "      <td>9750</td>\n",
       "      <td>CollgCr</td>\n",
       "      <td>6</td>\n",
       "      <td>1998</td>\n",
       "      <td>2006</td>\n",
       "      <td>2097</td>\n",
       "      <td>1108</td>\n",
       "      <td>989</td>\n",
       "      <td>Normal</td>\n",
       "      <td>274300</td>\n",
       "    </tr>\n",
       "    <tr>\n",
       "      <th>1374</th>\n",
       "      <td>69.84919</td>\n",
       "      <td>11400</td>\n",
       "      <td>NoRidge</td>\n",
       "      <td>5</td>\n",
       "      <td>2001</td>\n",
       "      <td>2007</td>\n",
       "      <td>2633</td>\n",
       "      <td>2633</td>\n",
       "      <td>0</td>\n",
       "      <td>Normal</td>\n",
       "      <td>466500</td>\n",
       "    </tr>\n",
       "    <tr>\n",
       "      <th>1375</th>\n",
       "      <td>85.00000</td>\n",
       "      <td>10625</td>\n",
       "      <td>Somerst</td>\n",
       "      <td>5</td>\n",
       "      <td>2005</td>\n",
       "      <td>2008</td>\n",
       "      <td>1958</td>\n",
       "      <td>1026</td>\n",
       "      <td>932</td>\n",
       "      <td>Normal</td>\n",
       "      <td>250000</td>\n",
       "    </tr>\n",
       "    <tr>\n",
       "      <th>1376</th>\n",
       "      <td>89.00000</td>\n",
       "      <td>10991</td>\n",
       "      <td>Timber</td>\n",
       "      <td>5</td>\n",
       "      <td>2007</td>\n",
       "      <td>2007</td>\n",
       "      <td>1571</td>\n",
       "      <td>1571</td>\n",
       "      <td>0</td>\n",
       "      <td>Partial</td>\n",
       "      <td>239000</td>\n",
       "    </tr>\n",
       "    <tr>\n",
       "      <th>1377</th>\n",
       "      <td>52.00000</td>\n",
       "      <td>6292</td>\n",
       "      <td>SWISU</td>\n",
       "      <td>5</td>\n",
       "      <td>1930</td>\n",
       "      <td>2008</td>\n",
       "      <td>790</td>\n",
       "      <td>790</td>\n",
       "      <td>0</td>\n",
       "      <td>Normal</td>\n",
       "      <td>91000</td>\n",
       "    </tr>\n",
       "    <tr>\n",
       "      <th>1378</th>\n",
       "      <td>60.00000</td>\n",
       "      <td>10998</td>\n",
       "      <td>Edwards</td>\n",
       "      <td>5</td>\n",
       "      <td>1941</td>\n",
       "      <td>2009</td>\n",
       "      <td>1604</td>\n",
       "      <td>984</td>\n",
       "      <td>620</td>\n",
       "      <td>Normal</td>\n",
       "      <td>117000</td>\n",
       "    </tr>\n",
       "    <tr>\n",
       "      <th>1379</th>\n",
       "      <td>21.00000</td>\n",
       "      <td>1953</td>\n",
       "      <td>BrDale</td>\n",
       "      <td>5</td>\n",
       "      <td>1973</td>\n",
       "      <td>2006</td>\n",
       "      <td>987</td>\n",
       "      <td>483</td>\n",
       "      <td>504</td>\n",
       "      <td>Normal</td>\n",
       "      <td>83000</td>\n",
       "    </tr>\n",
       "    <tr>\n",
       "      <th>1380</th>\n",
       "      <td>73.00000</td>\n",
       "      <td>9735</td>\n",
       "      <td>Timber</td>\n",
       "      <td>5</td>\n",
       "      <td>2006</td>\n",
       "      <td>2008</td>\n",
       "      <td>1394</td>\n",
       "      <td>754</td>\n",
       "      <td>640</td>\n",
       "      <td>Normal</td>\n",
       "      <td>167500</td>\n",
       "    </tr>\n",
       "    <tr>\n",
       "      <th>1381</th>\n",
       "      <td>45.00000</td>\n",
       "      <td>8212</td>\n",
       "      <td>Edwards</td>\n",
       "      <td>3</td>\n",
       "      <td>1914</td>\n",
       "      <td>2010</td>\n",
       "      <td>864</td>\n",
       "      <td>864</td>\n",
       "      <td>0</td>\n",
       "      <td>Normal</td>\n",
       "      <td>58500</td>\n",
       "    </tr>\n",
       "    <tr>\n",
       "      <th>1382</th>\n",
       "      <td>69.84919</td>\n",
       "      <td>12925</td>\n",
       "      <td>NAmes</td>\n",
       "      <td>7</td>\n",
       "      <td>1970</td>\n",
       "      <td>2008</td>\n",
       "      <td>2117</td>\n",
       "      <td>2117</td>\n",
       "      <td>0</td>\n",
       "      <td>Normal</td>\n",
       "      <td>237500</td>\n",
       "    </tr>\n",
       "    <tr>\n",
       "      <th>1383</th>\n",
       "      <td>60.00000</td>\n",
       "      <td>7200</td>\n",
       "      <td>OldTown</td>\n",
       "      <td>7</td>\n",
       "      <td>1920</td>\n",
       "      <td>2006</td>\n",
       "      <td>1762</td>\n",
       "      <td>998</td>\n",
       "      <td>764</td>\n",
       "      <td>Normal</td>\n",
       "      <td>157000</td>\n",
       "    </tr>\n",
       "    <tr>\n",
       "      <th>1384</th>\n",
       "      <td>69.84919</td>\n",
       "      <td>25339</td>\n",
       "      <td>Sawyer</td>\n",
       "      <td>7</td>\n",
       "      <td>1918</td>\n",
       "      <td>2007</td>\n",
       "      <td>1416</td>\n",
       "      <td>1416</td>\n",
       "      <td>0</td>\n",
       "      <td>Normal</td>\n",
       "      <td>112000</td>\n",
       "    </tr>\n",
       "    <tr>\n",
       "      <th>1385</th>\n",
       "      <td>60.00000</td>\n",
       "      <td>9060</td>\n",
       "      <td>Edwards</td>\n",
       "      <td>5</td>\n",
       "      <td>1939</td>\n",
       "      <td>2009</td>\n",
       "      <td>1258</td>\n",
       "      <td>698</td>\n",
       "      <td>560</td>\n",
       "      <td>Normal</td>\n",
       "      <td>105000</td>\n",
       "    </tr>\n",
       "    <tr>\n",
       "      <th>1386</th>\n",
       "      <td>40.00000</td>\n",
       "      <td>5436</td>\n",
       "      <td>IDOTRR</td>\n",
       "      <td>8</td>\n",
       "      <td>1922</td>\n",
       "      <td>2010</td>\n",
       "      <td>1154</td>\n",
       "      <td>796</td>\n",
       "      <td>358</td>\n",
       "      <td>Normal</td>\n",
       "      <td>125500</td>\n",
       "    </tr>\n",
       "    <tr>\n",
       "      <th>1387</th>\n",
       "      <td>80.00000</td>\n",
       "      <td>16692</td>\n",
       "      <td>NWAmes</td>\n",
       "      <td>5</td>\n",
       "      <td>1978</td>\n",
       "      <td>2006</td>\n",
       "      <td>2784</td>\n",
       "      <td>1392</td>\n",
       "      <td>1392</td>\n",
       "      <td>Normal</td>\n",
       "      <td>250000</td>\n",
       "    </tr>\n",
       "    <tr>\n",
       "      <th>1388</th>\n",
       "      <td>60.00000</td>\n",
       "      <td>8520</td>\n",
       "      <td>OldTown</td>\n",
       "      <td>7</td>\n",
       "      <td>1916</td>\n",
       "      <td>2007</td>\n",
       "      <td>2526</td>\n",
       "      <td>1664</td>\n",
       "      <td>862</td>\n",
       "      <td>Family</td>\n",
       "      <td>136000</td>\n",
       "    </tr>\n",
       "    <tr>\n",
       "      <th>1389</th>\n",
       "      <td>42.00000</td>\n",
       "      <td>14892</td>\n",
       "      <td>Gilbert</td>\n",
       "      <td>5</td>\n",
       "      <td>2006</td>\n",
       "      <td>2009</td>\n",
       "      <td>1746</td>\n",
       "      <td>1746</td>\n",
       "      <td>0</td>\n",
       "      <td>Normal</td>\n",
       "      <td>377500</td>\n",
       "    </tr>\n",
       "    <tr>\n",
       "      <th>1390</th>\n",
       "      <td>60.00000</td>\n",
       "      <td>6000</td>\n",
       "      <td>BrkSide</td>\n",
       "      <td>6</td>\n",
       "      <td>1941</td>\n",
       "      <td>2007</td>\n",
       "      <td>1218</td>\n",
       "      <td>869</td>\n",
       "      <td>349</td>\n",
       "      <td>Normal</td>\n",
       "      <td>131000</td>\n",
       "    </tr>\n",
       "    <tr>\n",
       "      <th>1391</th>\n",
       "      <td>70.00000</td>\n",
       "      <td>9100</td>\n",
       "      <td>CollgCr</td>\n",
       "      <td>5</td>\n",
       "      <td>2000</td>\n",
       "      <td>2006</td>\n",
       "      <td>1525</td>\n",
       "      <td>1525</td>\n",
       "      <td>0</td>\n",
       "      <td>Normal</td>\n",
       "      <td>235000</td>\n",
       "    </tr>\n",
       "    <tr>\n",
       "      <th>1392</th>\n",
       "      <td>65.00000</td>\n",
       "      <td>8944</td>\n",
       "      <td>NAmes</td>\n",
       "      <td>5</td>\n",
       "      <td>1967</td>\n",
       "      <td>2009</td>\n",
       "      <td>1584</td>\n",
       "      <td>1584</td>\n",
       "      <td>0</td>\n",
       "      <td>Normal</td>\n",
       "      <td>124000</td>\n",
       "    </tr>\n",
       "    <tr>\n",
       "      <th>1393</th>\n",
       "      <td>68.00000</td>\n",
       "      <td>7838</td>\n",
       "      <td>NAmes</td>\n",
       "      <td>5</td>\n",
       "      <td>1967</td>\n",
       "      <td>2006</td>\n",
       "      <td>900</td>\n",
       "      <td>900</td>\n",
       "      <td>0</td>\n",
       "      <td>Normal</td>\n",
       "      <td>123000</td>\n",
       "    </tr>\n",
       "    <tr>\n",
       "      <th>1394</th>\n",
       "      <td>60.00000</td>\n",
       "      <td>10800</td>\n",
       "      <td>OldTown</td>\n",
       "      <td>7</td>\n",
       "      <td>1905</td>\n",
       "      <td>2008</td>\n",
       "      <td>1912</td>\n",
       "      <td>1221</td>\n",
       "      <td>691</td>\n",
       "      <td>Normal</td>\n",
       "      <td>163000</td>\n",
       "    </tr>\n",
       "    <tr>\n",
       "      <th>1395</th>\n",
       "      <td>53.00000</td>\n",
       "      <td>4045</td>\n",
       "      <td>Blmngtn</td>\n",
       "      <td>5</td>\n",
       "      <td>2006</td>\n",
       "      <td>2006</td>\n",
       "      <td>1500</td>\n",
       "      <td>1500</td>\n",
       "      <td>0</td>\n",
       "      <td>Partial</td>\n",
       "      <td>246578</td>\n",
       "    </tr>\n",
       "    <tr>\n",
       "      <th>1396</th>\n",
       "      <td>88.00000</td>\n",
       "      <td>12665</td>\n",
       "      <td>Timber</td>\n",
       "      <td>5</td>\n",
       "      <td>2005</td>\n",
       "      <td>2007</td>\n",
       "      <td>2482</td>\n",
       "      <td>1133</td>\n",
       "      <td>1349</td>\n",
       "      <td>Normal</td>\n",
       "      <td>281213</td>\n",
       "    </tr>\n",
       "    <tr>\n",
       "      <th>1397</th>\n",
       "      <td>69.84919</td>\n",
       "      <td>57200</td>\n",
       "      <td>Timber</td>\n",
       "      <td>5</td>\n",
       "      <td>1948</td>\n",
       "      <td>2010</td>\n",
       "      <td>1687</td>\n",
       "      <td>1687</td>\n",
       "      <td>0</td>\n",
       "      <td>Normal</td>\n",
       "      <td>160000</td>\n",
       "    </tr>\n",
       "    <tr>\n",
       "      <th>1398</th>\n",
       "      <td>51.00000</td>\n",
       "      <td>6120</td>\n",
       "      <td>BrkSide</td>\n",
       "      <td>8</td>\n",
       "      <td>1920</td>\n",
       "      <td>2007</td>\n",
       "      <td>1513</td>\n",
       "      <td>939</td>\n",
       "      <td>574</td>\n",
       "      <td>Normal</td>\n",
       "      <td>137500</td>\n",
       "    </tr>\n",
       "    <tr>\n",
       "      <th>1399</th>\n",
       "      <td>60.00000</td>\n",
       "      <td>7200</td>\n",
       "      <td>NAmes</td>\n",
       "      <td>4</td>\n",
       "      <td>1950</td>\n",
       "      <td>2009</td>\n",
       "      <td>1904</td>\n",
       "      <td>1136</td>\n",
       "      <td>768</td>\n",
       "      <td>Normal</td>\n",
       "      <td>138000</td>\n",
       "    </tr>\n",
       "    <tr>\n",
       "      <th>1400</th>\n",
       "      <td>51.00000</td>\n",
       "      <td>6171</td>\n",
       "      <td>SWISU</td>\n",
       "      <td>6</td>\n",
       "      <td>1925</td>\n",
       "      <td>2009</td>\n",
       "      <td>1608</td>\n",
       "      <td>1160</td>\n",
       "      <td>448</td>\n",
       "      <td>Normal</td>\n",
       "      <td>137450</td>\n",
       "    </tr>\n",
       "  </tbody>\n",
       "</table>\n",
       "<p>1201 rows × 11 columns</p>\n",
       "</div>"
      ],
      "text/plain": [
       "      LotFrontage  LotArea Neighborhood  OverallCond  YearBuilt  YearSold  \\\n",
       "Id                                                                          \n",
       "200      76.00000     9591      NridgHt            5       2004      2009   \n",
       "201      80.00000     8546      Edwards            5       2003      2010   \n",
       "202      75.00000    10125      Mitchel            6       1977      2008   \n",
       "203      50.00000     7000      OldTown            6       1924      2006   \n",
       "204      69.84919     4438      CollgCr            5       2004      2008   \n",
       "205      50.00000     3500      OldTown            7       1947      2009   \n",
       "206      99.00000    11851      Gilbert            5       1990      2009   \n",
       "207      40.00000    13673       Sawyer            5       1962      2007   \n",
       "208      69.84919    12493        NAmes            5       1960      2008   \n",
       "209      69.84919    14364      SawyerW            5       1988      2007   \n",
       "210      75.00000     8250        NAmes            7       1964      2008   \n",
       "211      67.00000     5604      Edwards            6       1925      2008   \n",
       "212      83.00000    10420      Edwards            5       2009      2010   \n",
       "213      72.00000     8640      Somerst            5       2009      2009   \n",
       "214      43.00000    13568      CollgCr            5       1995      2006   \n",
       "215      69.84919    10900      CollgCr            7       1977      2010   \n",
       "216      72.00000    10011        NAmes            6       1957      2006   \n",
       "217      65.00000     8450      CollgCr            5       2004      2008   \n",
       "218      57.00000     9906      OldTown            4       1925      2006   \n",
       "219      69.84919    15660      Crawfor            9       1939      2008   \n",
       "220      43.00000     3010      Blmngtn            5       2005      2006   \n",
       "221      73.00000     8990      CollgCr            5       2006      2006   \n",
       "222      69.84919     8068      Gilbert            5       2002      2009   \n",
       "223      85.00000    11475       NWAmes            6       1975      2006   \n",
       "224      70.00000    10500        NAmes            6       1971      2009   \n",
       "225     103.00000    13472      NridgHt            5       2003      2009   \n",
       "226      21.00000     1680       BrDale            5       1971      2009   \n",
       "227      82.00000     9950      NoRidge            5       1995      2007   \n",
       "228      21.00000     1869       BrDale            6       1970      2008   \n",
       "229      70.00000     8521       Sawyer            5       1967      2010   \n",
       "...           ...      ...          ...          ...        ...       ...   \n",
       "1371     90.00000     5400      OldTown            6       1920      2009   \n",
       "1372     80.00000     9600        NAmes            6       1955      2008   \n",
       "1373     75.00000     9750      CollgCr            6       1998      2006   \n",
       "1374     69.84919    11400      NoRidge            5       2001      2007   \n",
       "1375     85.00000    10625      Somerst            5       2005      2008   \n",
       "1376     89.00000    10991       Timber            5       2007      2007   \n",
       "1377     52.00000     6292        SWISU            5       1930      2008   \n",
       "1378     60.00000    10998      Edwards            5       1941      2009   \n",
       "1379     21.00000     1953       BrDale            5       1973      2006   \n",
       "1380     73.00000     9735       Timber            5       2006      2008   \n",
       "1381     45.00000     8212      Edwards            3       1914      2010   \n",
       "1382     69.84919    12925        NAmes            7       1970      2008   \n",
       "1383     60.00000     7200      OldTown            7       1920      2006   \n",
       "1384     69.84919    25339       Sawyer            7       1918      2007   \n",
       "1385     60.00000     9060      Edwards            5       1939      2009   \n",
       "1386     40.00000     5436       IDOTRR            8       1922      2010   \n",
       "1387     80.00000    16692       NWAmes            5       1978      2006   \n",
       "1388     60.00000     8520      OldTown            7       1916      2007   \n",
       "1389     42.00000    14892      Gilbert            5       2006      2009   \n",
       "1390     60.00000     6000      BrkSide            6       1941      2007   \n",
       "1391     70.00000     9100      CollgCr            5       2000      2006   \n",
       "1392     65.00000     8944        NAmes            5       1967      2009   \n",
       "1393     68.00000     7838        NAmes            5       1967      2006   \n",
       "1394     60.00000    10800      OldTown            7       1905      2008   \n",
       "1395     53.00000     4045      Blmngtn            5       2006      2006   \n",
       "1396     88.00000    12665       Timber            5       2005      2007   \n",
       "1397     69.84919    57200       Timber            5       1948      2010   \n",
       "1398     51.00000     6120      BrkSide            8       1920      2007   \n",
       "1399     60.00000     7200        NAmes            4       1950      2009   \n",
       "1400     51.00000     6171        SWISU            6       1925      2009   \n",
       "\n",
       "      GrLivArea  1stFlrSF  2ndFlrSF SaleCondition  SalePrice  \n",
       "Id                                                            \n",
       "200        1713      1713         0        Normal     274900  \n",
       "201        1121      1121         0        Normal     140000  \n",
       "202        1279      1279         0        Normal     171500  \n",
       "203        1310       865       445        Normal     112000  \n",
       "204         848       848         0        Normal     149000  \n",
       "205        1284       720       564        Normal     110000  \n",
       "206        1442      1442         0        Normal     180500  \n",
       "207        1696      1696         0        Normal     143900  \n",
       "208        1100      1100         0        Normal     141000  \n",
       "209        2062      1180       882        Normal     277000  \n",
       "210        1092      1092         0        Normal     145000  \n",
       "211         864       864         0        Normal      98000  \n",
       "212        1212      1212         0        Normal     186000  \n",
       "213        1852       932       920       Partial     252678  \n",
       "214         990       990         0        Normal     156000  \n",
       "215        1392       689       703        Normal     161750  \n",
       "216        1236      1236         0        Normal     134450  \n",
       "217        1436      1436         0        Normal     210000  \n",
       "218        1328       810       518        Family     107000  \n",
       "219        1954      1137       817        Normal     311500  \n",
       "220        1248      1248         0       Partial     167240  \n",
       "221        1498      1498         0       Partial     204900  \n",
       "222        2267      1010      1257        Normal     200000  \n",
       "223        1552       811       741        Normal     179900  \n",
       "224         864       864         0       Abnorml      97000  \n",
       "225        2392      2392         0        Normal     386250  \n",
       "226        1302       630       672       Abnorml     112000  \n",
       "227        2520      1214      1306       Abnorml     290000  \n",
       "228         987       483       504        Normal     106000  \n",
       "229         912       912         0        Normal     125000  \n",
       "...         ...       ...       ...           ...        ...  \n",
       "1371       1374       840       534        Normal     105000  \n",
       "1372       1661      1661         0        Normal     165500  \n",
       "1373       2097      1108       989        Normal     274300  \n",
       "1374       2633      2633         0        Normal     466500  \n",
       "1375       1958      1026       932        Normal     250000  \n",
       "1376       1571      1571         0       Partial     239000  \n",
       "1377        790       790         0        Normal      91000  \n",
       "1378       1604       984       620        Normal     117000  \n",
       "1379        987       483       504        Normal      83000  \n",
       "1380       1394       754       640        Normal     167500  \n",
       "1381        864       864         0        Normal      58500  \n",
       "1382       2117      2117         0        Normal     237500  \n",
       "1383       1762       998       764        Normal     157000  \n",
       "1384       1416      1416         0        Normal     112000  \n",
       "1385       1258       698       560        Normal     105000  \n",
       "1386       1154       796       358        Normal     125500  \n",
       "1387       2784      1392      1392        Normal     250000  \n",
       "1388       2526      1664       862        Family     136000  \n",
       "1389       1746      1746         0        Normal     377500  \n",
       "1390       1218       869       349        Normal     131000  \n",
       "1391       1525      1525         0        Normal     235000  \n",
       "1392       1584      1584         0        Normal     124000  \n",
       "1393        900       900         0        Normal     123000  \n",
       "1394       1912      1221       691        Normal     163000  \n",
       "1395       1500      1500         0       Partial     246578  \n",
       "1396       2482      1133      1349        Normal     281213  \n",
       "1397       1687      1687         0        Normal     160000  \n",
       "1398       1513       939       574        Normal     137500  \n",
       "1399       1904      1136       768        Normal     138000  \n",
       "1400       1608      1160       448        Normal     137450  \n",
       "\n",
       "[1201 rows x 11 columns]"
      ]
     },
     "execution_count": 9,
     "metadata": {},
     "output_type": "execute_result"
    }
   ],
   "source": [
    "subdf.fillna(subdf[\"LotFrontage\"].mean())"
   ]
  },
  {
   "cell_type": "markdown",
   "metadata": {},
   "source": [
    "#### 1.5 Answer the following questions with the *subset* of the data:\n",
    "Each subquestion is worth **1%**"
   ]
  },
  {
   "cell_type": "markdown",
   "metadata": {},
   "source": [
    "#### 1.5.1 What were the basic statistics of house prices? (mean, std, min, 25%, 50%, 75%, max)"
   ]
  },
  {
   "cell_type": "code",
   "execution_count": 10,
   "metadata": {},
   "outputs": [
    {
     "data": {
      "text/plain": [
       "count      1201.000000\n",
       "mean     180951.324729\n",
       "std       80535.850068\n",
       "min       34900.000000\n",
       "25%      130000.000000\n",
       "50%      162900.000000\n",
       "75%      213500.000000\n",
       "max      755000.000000\n",
       "Name: SalePrice, dtype: float64"
      ]
     },
     "execution_count": 10,
     "metadata": {},
     "output_type": "execute_result"
    }
   ],
   "source": [
    "subdf[\"SalePrice\"].describe()"
   ]
  },
  {
   "cell_type": "markdown",
   "metadata": {},
   "source": [
    "#### 1.5.2 What's the average lot size in square feet? How about the standard deviation?\n",
    "HINT: Use the column `LotArea`"
   ]
  },
  {
   "cell_type": "code",
   "execution_count": 11,
   "metadata": {},
   "outputs": [
    {
     "name": "stdout",
     "output_type": "stream",
     "text": [
      "10585.005828476269\n",
      "10772.09507488984\n"
     ]
    }
   ],
   "source": [
    "print(subdf[\"LotArea\"].mean())\n",
    "print(subdf[\"LotArea\"].std())"
   ]
  },
  {
   "cell_type": "markdown",
   "metadata": {},
   "source": [
    "#### 1.5.3 What year was the oldest house build?"
   ]
  },
  {
   "cell_type": "code",
   "execution_count": 12,
   "metadata": {},
   "outputs": [
    {
     "data": {
      "text/plain": [
       "1872"
      ]
     },
     "execution_count": 12,
     "metadata": {},
     "output_type": "execute_result"
    }
   ],
   "source": [
    "subdf[\"YearBuilt\"].min()"
   ]
  },
  {
   "cell_type": "markdown",
   "metadata": {},
   "source": [
    "#### 1.5.4 Follow-up question to the previous one: What was the sale condition of that house?"
   ]
  },
  {
   "cell_type": "code",
   "execution_count": 13,
   "metadata": {},
   "outputs": [
    {
     "data": {
      "text/plain": [
       "'Normal'"
      ]
     },
     "execution_count": 13,
     "metadata": {},
     "output_type": "execute_result"
    }
   ],
   "source": [
    "subdf.loc[subdf[\"YearBuilt\"].idxmin()][\"SaleCondition\"]"
   ]
  },
  {
   "cell_type": "markdown",
   "metadata": {},
   "source": [
    "#### 1.5.5 How many houses were built in 2008? How about 2009?"
   ]
  },
  {
   "cell_type": "code",
   "execution_count": 14,
   "metadata": {},
   "outputs": [
    {
     "name": "stdout",
     "output_type": "stream",
     "text": [
      "19\n",
      "15\n"
     ]
    }
   ],
   "source": [
    "print(len(subdf[subdf[\"YearBuilt\"] == 2008]))\n",
    "print(len(subdf[subdf[\"YearBuilt\"] == 2009]))"
   ]
  },
  {
   "cell_type": "markdown",
   "metadata": {},
   "source": [
    "#### 1.5.6 Break-down median prices of houses by year in sold they were sold"
   ]
  },
  {
   "cell_type": "code",
   "execution_count": 15,
   "metadata": {},
   "outputs": [
    {
     "data": {
      "text/plain": [
       "YearSold\n",
       "2006    162950\n",
       "2007    167000\n",
       "2008    165400\n",
       "2009    160850\n",
       "2010    155000\n",
       "Name: SalePrice, dtype: int64"
      ]
     },
     "execution_count": 15,
     "metadata": {},
     "output_type": "execute_result"
    }
   ],
   "source": [
    "subdf.groupby(['YearSold'])[\"SalePrice\"].median()"
   ]
  },
  {
   "cell_type": "markdown",
   "metadata": {},
   "source": [
    "#### 1.5.7 What is the average difference between 1st Floor (`1stFlrSF`) and 2nd Floor (`2ndFlrSF`) square feet?"
   ]
  },
  {
   "cell_type": "code",
   "execution_count": 16,
   "metadata": {},
   "outputs": [
    {
     "name": "stdout",
     "output_type": "stream",
     "text": [
      "1160.856786011657\n",
      "350.0840965861782\n"
     ]
    }
   ],
   "source": [
    "# print(subdf[\"1stFlrSF\"].pow(2).mean())\n",
    "# print(subdf[\"2ndFlrSF\"].pow(2).mean())\n",
    "print(subdf[\"1stFlrSF\"].mean())\n",
    "print(subdf[\"2ndFlrSF\"].mean())"
   ]
  },
  {
   "cell_type": "markdown",
   "metadata": {},
   "source": [
    "#### 1.5.8 In what neighborhood is the most expensive house situated?"
   ]
  },
  {
   "cell_type": "code",
   "execution_count": 17,
   "metadata": {},
   "outputs": [
    {
     "data": {
      "text/plain": [
       "'NoRidge'"
      ]
     },
     "execution_count": 17,
     "metadata": {},
     "output_type": "execute_result"
    }
   ],
   "source": [
    "subdf.loc[subdf[\"SalePrice\"].idxmax()][\"Neighborhood\"]"
   ]
  },
  {
   "cell_type": "markdown",
   "metadata": {},
   "source": [
    "#### 1.5.9 What was the average price of houses with overall condition 8 or higher, built after 1960 (inclusive) and sold before 2009 (exclusive)?"
   ]
  },
  {
   "cell_type": "code",
   "execution_count": 18,
   "metadata": {},
   "outputs": [
    {
     "data": {
      "text/plain": [
       "169352.9411764706"
      ]
     },
     "execution_count": 18,
     "metadata": {},
     "output_type": "execute_result"
    }
   ],
   "source": [
    "subdf[(subdf[\"OverallCond\"]>=8) & (subdf[\"YearBuilt\"]>=1960) & (subdf[\"YearSold\"]<2009)][\"SalePrice\"].mean()"
   ]
  },
  {
   "cell_type": "markdown",
   "metadata": {},
   "source": [
    "#### 1.5.10 Display the house with id 987? Display the 472nd house in the dataset?"
   ]
  },
  {
   "cell_type": "code",
   "execution_count": 19,
   "metadata": {},
   "outputs": [
    {
     "name": "stdout",
     "output_type": "stream",
     "text": [
      "987:\n",
      " LotFrontage           59\n",
      "LotArea             5310\n",
      "Neighborhood     OldTown\n",
      "OverallCond            8\n",
      "YearBuilt           1910\n",
      "YearSold            2006\n",
      "GrLivArea           1635\n",
      "1stFlrSF            1001\n",
      "2ndFlrSF             634\n",
      "SaleCondition     Normal\n",
      "SalePrice         117000\n",
      "Name: 987, dtype: object\n",
      "472nd:\n",
      " LotFrontage           64\n",
      "LotArea             8633\n",
      "Neighborhood     CollgCr\n",
      "OverallCond            5\n",
      "YearBuilt           2005\n",
      "YearSold            2009\n",
      "GrLivArea           1476\n",
      "1stFlrSF             738\n",
      "2ndFlrSF             738\n",
      "SaleCondition     Normal\n",
      "SalePrice         173500\n",
      "Name: 671, dtype: object\n"
     ]
    }
   ],
   "source": [
    "print(\"987:\\n\", subdf.loc[987])\n",
    "print(\"472nd:\\n\", subdf.iloc[472-1])"
   ]
  },
  {
   "cell_type": "markdown",
   "metadata": {},
   "source": [
    "## Part 2: Plotting [total of 30%]"
   ]
  },
  {
   "cell_type": "markdown",
   "metadata": {},
   "source": [
    "#### 2.1 Univariate (1 variable) [10%, 3.3% each]"
   ]
  },
  {
   "cell_type": "markdown",
   "metadata": {},
   "source": [
    "#### 2.1.1 Plot the distribution of sale price"
   ]
  },
  {
   "cell_type": "code",
   "execution_count": 20,
   "metadata": {},
   "outputs": [
    {
     "name": "stderr",
     "output_type": "stream",
     "text": [
      "/anaconda3/lib/python3.7/site-packages/scipy/stats/stats.py:1713: FutureWarning: Using a non-tuple sequence for multidimensional indexing is deprecated; use `arr[tuple(seq)]` instead of `arr[seq]`. In the future this will be interpreted as an array index, `arr[np.array(seq)]`, which will result either in an error or a different result.\n",
      "  return np.add.reduce(sorted[indexer] * weights, axis=axis) / sumval\n"
     ]
    },
    {
     "data": {
      "text/plain": [
       "<matplotlib.axes._subplots.AxesSubplot at 0x1097b8550>"
      ]
     },
     "execution_count": 20,
     "metadata": {},
     "output_type": "execute_result"
    },
    {
     "data": {
      "image/png": "[encoded data removed]",
      "text/plain": [
       "<Figure size 432x288 with 1 Axes>"
      ]
     },
     "metadata": {
      "needs_background": "light"
     },
     "output_type": "display_data"
    }
   ],
   "source": [
    "sns.distplot(df[\"SalePrice\"], kde=False)"
   ]
  },
  {
   "cell_type": "markdown",
   "metadata": {},
   "source": [
    "#### 2.1.2 Plot the histogram of the overall condition"
   ]
  },
  {
   "cell_type": "code",
   "execution_count": 21,
   "metadata": {},
   "outputs": [
    {
     "data": {
      "text/plain": [
       "array([[<matplotlib.axes._subplots.AxesSubplot object at 0x1a1d0d1dd8>]],\n",
       "      dtype=object)"
      ]
     },
     "execution_count": 21,
     "metadata": {},
     "output_type": "execute_result"
    },
    {
     "data": {
      "image/png": "[encoded data removed]",
      "text/plain": [
       "<Figure size 432x288 with 1 Axes>"
      ]
     },
     "metadata": {
      "needs_background": "light"
     },
     "output_type": "display_data"
    }
   ],
   "source": [
    "df.hist(column=\"OverallCond\", bins=9)"
   ]
  },
  {
   "cell_type": "markdown",
   "metadata": {},
   "source": [
    "#### 2.1.3 Create one univariate plot of your own choice"
   ]
  },
  {
   "cell_type": "code",
   "execution_count": 48,
   "metadata": {},
   "outputs": [
    {
     "data": {
      "text/plain": [
       "<matplotlib.axes._subplots.AxesSubplot at 0x1a21a11da0>"
      ]
     },
     "execution_count": 48,
     "metadata": {},
     "output_type": "execute_result"
    },
    {
     "data": {
      "image/png": "[encoded data removed]",
      "text/plain": [
       "<Figure size 432x288 with 1 Axes>"
      ]
     },
     "metadata": {
      "needs_background": "light"
     },
     "output_type": "display_data"
    }
   ],
   "source": [
    "sns.distplot(df[\"YearBuilt\"], kde=False)"
   ]
  },
  {
   "cell_type": "markdown",
   "metadata": {},
   "source": [
    "#### 2.2 Bivariate (2 variables) [10%, 3.3% each]"
   ]
  },
  {
   "cell_type": "markdown",
   "metadata": {},
   "source": [
    "#### 2.2.1 Plot the scatter plot displaying the relationship between above ground living area (`GrLivArea`) and sale price"
   ]
  },
  {
   "cell_type": "code",
   "execution_count": 22,
   "metadata": {},
   "outputs": [
    {
     "data": {
      "image/png": "[encoded data removed]",
      "text/plain": [
       "<Figure size 432x288 with 1 Axes>"
      ]
     },
     "metadata": {
      "needs_background": "light"
     },
     "output_type": "display_data"
    }
   ],
   "source": [
    "df.plot.scatter(x=\"GrLivArea\", y=\"SalePrice\");"
   ]
  },
  {
   "cell_type": "markdown",
   "metadata": {},
   "source": [
    "#### 2.2.2 Plot the boxplot of the relationship between the overall condition and the sale price\n",
    "HINT: The result should look something like [this](https://s3-us-west-1.amazonaws.com/usfca-cs686-ml/hw1/boxplot_result.png) (however, it's OK if yours looks different as long as you use the right type of plot, data and the right variables)"
   ]
  },
  {
   "cell_type": "code",
   "execution_count": 23,
   "metadata": {},
   "outputs": [
    {
     "data": {
      "text/plain": [
       "<matplotlib.axes._subplots.AxesSubplot at 0x1a1e04f6a0>"
      ]
     },
     "execution_count": 23,
     "metadata": {},
     "output_type": "execute_result"
    },
    {
     "data": {
      "image/png": "[encoded data removed]",
      "text/plain": [
       "<Figure size 432x288 with 1 Axes>"
      ]
     },
     "metadata": {
      "needs_background": "light"
     },
     "output_type": "display_data"
    }
   ],
   "source": [
    "df.boxplot(column=\"SalePrice\", by=\"OverallCond\")"
   ]
  },
  {
   "cell_type": "markdown",
   "metadata": {},
   "source": [
    "#### 2.2.3 Create one bivariate plot of your own choice"
   ]
  },
  {
   "cell_type": "code",
   "execution_count": 55,
   "metadata": {},
   "outputs": [
    {
     "data": {
      "image/png": "[encoded data removed]",
      "text/plain": [
       "<Figure size 432x288 with 1 Axes>"
      ]
     },
     "metadata": {
      "needs_background": "light"
     },
     "output_type": "display_data"
    }
   ],
   "source": [
    "df.plot.scatter(x=\"1stFlrSF\", y=\"SalePrice\");"
   ]
  },
  {
   "cell_type": "markdown",
   "metadata": {},
   "source": [
    "#### 2.3 Multivariate (2+ variables) [10%, 3.3% each]"
   ]
  },
  {
   "cell_type": "markdown",
   "metadata": {},
   "source": [
    "#### 2.3.1 Plot the scatter plot displaying the relationship between lot area and sale price, colored by the overall condition"
   ]
  },
  {
   "cell_type": "code",
   "execution_count": 24,
   "metadata": {},
   "outputs": [
    {
     "data": {
      "text/plain": [
       "<matplotlib.axes._subplots.AxesSubplot at 0x1a1e3a33c8>"
      ]
     },
     "execution_count": 24,
     "metadata": {},
     "output_type": "execute_result"
    },
    {
     "data": {
      "image/png": "[encoded data removed]",
      "text/plain": [
       "<Figure size 432x288 with 2 Axes>"
      ]
     },
     "metadata": {
      "needs_background": "light"
     },
     "output_type": "display_data"
    }
   ],
   "source": [
    "df.plot.scatter(x=\"LotArea\", y=\"SalePrice\", c=\"OverallCond\")"
   ]
  },
  {
   "cell_type": "markdown",
   "metadata": {},
   "source": [
    "#### 2.3.2 Create one multivariate plot of your own choice"
   ]
  },
  {
   "cell_type": "code",
   "execution_count": null,
   "metadata": {},
   "outputs": [],
   "source": []
  },
  {
   "cell_type": "markdown",
   "metadata": {},
   "source": [
    "## Part 3: Theory [total of 20%]"
   ]
  },
  {
   "cell_type": "markdown",
   "metadata": {},
   "source": [
    "### 3.1 Central Limit Theorem (CLT) [total of 10%]"
   ]
  },
  {
   "cell_type": "markdown",
   "metadata": {},
   "source": [
    "#### 3.1.1 Create an array on 100 000 samples, sampled from a uniform distribution [2%]\n",
    "HINT: check [this](https://docs.scipy.org/doc/numpy-1.14.5/reference/generated/numpy.random.uniform.html)"
   ]
  },
  {
   "cell_type": "code",
   "execution_count": 25,
   "metadata": {},
   "outputs": [],
   "source": [
    "dis = np.random.uniform(-1000, 1000, 100000)"
   ]
  },
  {
   "cell_type": "markdown",
   "metadata": {},
   "source": [
    "#### 3.1.2 Plot the distribution of the data. Does it look like a uniform distribution?  [2%]\n",
    "HINT: check [this](https://seaborn.pydata.org/tutorial/distributions.html)"
   ]
  },
  {
   "cell_type": "code",
   "execution_count": 26,
   "metadata": {},
   "outputs": [
    {
     "data": {
      "text/plain": [
       "<matplotlib.axes._subplots.AxesSubplot at 0x1a1e501630>"
      ]
     },
     "execution_count": 26,
     "metadata": {},
     "output_type": "execute_result"
    },
    {
     "data": {
      "image/png": "[encoded data removed]",
      "text/plain": [
       "<Figure size 432x288 with 1 Axes>"
      ]
     },
     "metadata": {
      "needs_background": "light"
     },
     "output_type": "display_data"
    }
   ],
   "source": [
    "sns.distplot(dis, kde=False)"
   ]
  },
  {
   "cell_type": "markdown",
   "metadata": {},
   "source": [
    "#### 3.1.3 Randomly shuffle the data, create pairs ($n=2$) with the original and than average the value of the pair  [1.5%]\n",
    "In other words:\n",
    "\n",
    "1. Create new array by shuffling the data you sampled in `3.1.1` ([HINT](https://docs.scipy.org/doc/numpy-1.15.0/reference/generated/numpy.random.permutation.html))\n",
    "2. Stack the new array with the original data into a single 2-D array of shape (100000, 2) ([HINT](https://docs.scipy.org/doc/numpy/reference/generated/numpy.stack.html))\n",
    "3. Average the newly formed 2-D array by 2nd dimension (i.e. mean with `axis=1`)"
   ]
  },
  {
   "cell_type": "code",
   "execution_count": 27,
   "metadata": {},
   "outputs": [],
   "source": [
    "newdis = np.stack((np.random.permutation(dis), dis), axis=-1)\n",
    "avg = np.mean(newdis, axis=1)"
   ]
  },
  {
   "cell_type": "markdown",
   "metadata": {},
   "source": [
    "#### 3.1.4 Similarly to `3.1.2`, plot the distribution of the pairs. What distribution does it look like? [1.5%]"
   ]
  },
  {
   "cell_type": "code",
   "execution_count": 28,
   "metadata": {},
   "outputs": [
    {
     "data": {
      "text/plain": [
       "<matplotlib.axes._subplots.AxesSubplot at 0x1a1e05fa58>"
      ]
     },
     "execution_count": 28,
     "metadata": {},
     "output_type": "execute_result"
    },
    {
     "data": {
      "image/png": "[encoded data removed]",
      "text/plain": [
       "<Figure size 432x288 with 1 Axes>"
      ]
     },
     "metadata": {
      "needs_background": "light"
     },
     "output_type": "display_data"
    }
   ],
   "source": [
    "sns.distplot(avg, kde=False)"
   ]
  },
  {
   "cell_type": "markdown",
   "metadata": {},
   "source": [
    "#### 3.1.5 Compute the mean and standard deviation of the original data and the newly formed data. [1.5%]"
   ]
  },
  {
   "cell_type": "code",
   "execution_count": 29,
   "metadata": {},
   "outputs": [
    {
     "name": "stdout",
     "output_type": "stream",
     "text": [
      "2.8521414668844174\n",
      "576.7868793578514\n",
      "2.8521414668844174\n",
      "408.5607754091411\n"
     ]
    }
   ],
   "source": [
    "print(dis.mean())\n",
    "print(np.std(dis))\n",
    "print(avg.mean())\n",
    "print(np.std(avg))"
   ]
  },
  {
   "cell_type": "markdown",
   "metadata": {},
   "source": [
    "#### 3.1.6 Repeat `3.1.3`, `3.1.4` and `3.1.5` for $n=5$. In one sentence, describe how the distribution have changed? Namely think about how the mean $\\mu$ and stardard deviation $\\sigma$ changed. [1%]\n",
    "HINT: Similarly to `3.1.3`, shuffle the original data 4 times and then stack into a 2-D array of shape (100000,5). The remaining steps will be the same"
   ]
  },
  {
   "cell_type": "code",
   "execution_count": 35,
   "metadata": {},
   "outputs": [
    {
     "name": "stdout",
     "output_type": "stream",
     "text": [
      "2.8521414668844174\n",
      "576.7868793578514\n",
      "2.852141466884418\n",
      "257.13049596827256\n"
     ]
    },
    {
     "data": {
      "image/png": "[encoded data removed]",
      "text/plain": [
       "<Figure size 432x288 with 1 Axes>"
      ]
     },
     "metadata": {
      "needs_background": "light"
     },
     "output_type": "display_data"
    }
   ],
   "source": [
    "newdis2 = np.stack((np.random.permutation(dis), np.random.permutation(dis), np.random.permutation(dis), np.random.permutation(dis), dis), axis=-1)\n",
    "avg2 = np.mean(newdis2, axis=1)\n",
    "sns.distplot(avg2, kde=False)\n",
    "print(dis.mean())\n",
    "print(np.std(dis))\n",
    "print(avg2.mean())\n",
    "print(np.std(avg2))"
   ]
  },
  {
   "cell_type": "markdown",
   "metadata": {},
   "source": []
  },
  {
   "cell_type": "markdown",
   "metadata": {},
   "source": [
    "#### 3.1.7 Now, do the same for $n=10$. [0.5%]"
   ]
  },
  {
   "cell_type": "code",
   "execution_count": 36,
   "metadata": {},
   "outputs": [
    {
     "name": "stderr",
     "output_type": "stream",
     "text": [
      "/anaconda3/lib/python3.7/site-packages/scipy/stats/stats.py:1713: FutureWarning: Using a non-tuple sequence for multidimensional indexing is deprecated; use `arr[tuple(seq)]` instead of `arr[seq]`. In the future this will be interpreted as an array index, `arr[np.array(seq)]`, which will result either in an error or a different result.\n",
      "  return np.add.reduce(sorted[indexer] * weights, axis=axis) / sumval\n"
     ]
    },
    {
     "name": "stdout",
     "output_type": "stream",
     "text": [
      "2.8521414668844174\n",
      "576.7868793578514\n",
      "2.8521414668844174\n",
      "182.29926011175257\n"
     ]
    },
    {
     "data": {
      "image/png": "[encoded data removed]",
      "text/plain": [
       "<Figure size 432x288 with 1 Axes>"
      ]
     },
     "metadata": {
      "needs_background": "light"
     },
     "output_type": "display_data"
    }
   ],
   "source": [
    "newdis3 = np.stack((np.random.permutation(dis), np.random.permutation(dis), \\\n",
    "                    np.random.permutation(dis), np.random.permutation(dis), \\\n",
    "                    np.random.permutation(dis), np.random.permutation(dis), \\\n",
    "                    np.random.permutation(dis), np.random.permutation(dis), \\\n",
    "                    np.random.permutation(dis), dis), axis=-1)\n",
    "avg3 = np.mean(newdis3, axis=1)\n",
    "sns.distplot(avg3, kde=False)\n",
    "print(dis.mean())\n",
    "print(np.std(dis))\n",
    "print(avg3.mean())\n",
    "print(np.std(avg3))"
   ]
  },
  {
   "cell_type": "markdown",
   "metadata": {},
   "source": [
    "### 3.2 Hypothesis Testing [total of 10%] "
   ]
  },
  {
   "cell_type": "markdown",
   "metadata": {},
   "source": [
    "In the following cell, there are data for a given experiment with 2 samples (Control group and Experimental group) with $n=30$ and $\\sigma=2.9$."
   ]
  },
  {
   "cell_type": "code",
   "execution_count": 10,
   "metadata": {
    "scrolled": true
   },
   "outputs": [
    {
     "data": {
      "text/html": [
       "<div>\n",
       "<style scoped>\n",
       "    .dataframe tbody tr th:only-of-type {\n",
       "        vertical-align: middle;\n",
       "    }\n",
       "\n",
       "    .dataframe tbody tr th {\n",
       "        vertical-align: top;\n",
       "    }\n",
       "\n",
       "    .dataframe thead th {\n",
       "        text-align: right;\n",
       "    }\n",
       "</style>\n",
       "<table border=\"1\" class=\"dataframe\">\n",
       "  <thead>\n",
       "    <tr style=\"text-align: right;\">\n",
       "      <th></th>\n",
       "      <th>Control</th>\n",
       "      <th>Experimental</th>\n",
       "    </tr>\n",
       "  </thead>\n",
       "  <tbody>\n",
       "    <tr>\n",
       "      <th>0</th>\n",
       "      <td>12.72</td>\n",
       "      <td>23.62</td>\n",
       "    </tr>\n",
       "    <tr>\n",
       "      <th>1</th>\n",
       "      <td>8.83</td>\n",
       "      <td>15.67</td>\n",
       "    </tr>\n",
       "    <tr>\n",
       "      <th>2</th>\n",
       "      <td>14.14</td>\n",
       "      <td>23.82</td>\n",
       "    </tr>\n",
       "    <tr>\n",
       "      <th>3</th>\n",
       "      <td>14.49</td>\n",
       "      <td>15.43</td>\n",
       "    </tr>\n",
       "    <tr>\n",
       "      <th>4</th>\n",
       "      <td>7.15</td>\n",
       "      <td>22.04</td>\n",
       "    </tr>\n",
       "    <tr>\n",
       "      <th>5</th>\n",
       "      <td>8.53</td>\n",
       "      <td>23.02</td>\n",
       "    </tr>\n",
       "    <tr>\n",
       "      <th>6</th>\n",
       "      <td>10.31</td>\n",
       "      <td>19.82</td>\n",
       "    </tr>\n",
       "    <tr>\n",
       "      <th>7</th>\n",
       "      <td>10.59</td>\n",
       "      <td>17.13</td>\n",
       "    </tr>\n",
       "    <tr>\n",
       "      <th>8</th>\n",
       "      <td>14.50</td>\n",
       "      <td>20.35</td>\n",
       "    </tr>\n",
       "    <tr>\n",
       "      <th>9</th>\n",
       "      <td>15.57</td>\n",
       "      <td>28.82</td>\n",
       "    </tr>\n",
       "    <tr>\n",
       "      <th>10</th>\n",
       "      <td>11.67</td>\n",
       "      <td>22.32</td>\n",
       "    </tr>\n",
       "    <tr>\n",
       "      <th>11</th>\n",
       "      <td>11.46</td>\n",
       "      <td>20.53</td>\n",
       "    </tr>\n",
       "    <tr>\n",
       "      <th>12</th>\n",
       "      <td>20.96</td>\n",
       "      <td>21.46</td>\n",
       "    </tr>\n",
       "    <tr>\n",
       "      <th>13</th>\n",
       "      <td>11.20</td>\n",
       "      <td>16.86</td>\n",
       "    </tr>\n",
       "    <tr>\n",
       "      <th>14</th>\n",
       "      <td>9.61</td>\n",
       "      <td>19.16</td>\n",
       "    </tr>\n",
       "    <tr>\n",
       "      <th>15</th>\n",
       "      <td>15.69</td>\n",
       "      <td>15.53</td>\n",
       "    </tr>\n",
       "    <tr>\n",
       "      <th>16</th>\n",
       "      <td>13.04</td>\n",
       "      <td>19.74</td>\n",
       "    </tr>\n",
       "    <tr>\n",
       "      <th>17</th>\n",
       "      <td>12.79</td>\n",
       "      <td>15.92</td>\n",
       "    </tr>\n",
       "    <tr>\n",
       "      <th>18</th>\n",
       "      <td>7.60</td>\n",
       "      <td>17.69</td>\n",
       "    </tr>\n",
       "    <tr>\n",
       "      <th>19</th>\n",
       "      <td>10.23</td>\n",
       "      <td>20.68</td>\n",
       "    </tr>\n",
       "    <tr>\n",
       "      <th>20</th>\n",
       "      <td>5.63</td>\n",
       "      <td>19.13</td>\n",
       "    </tr>\n",
       "    <tr>\n",
       "      <th>21</th>\n",
       "      <td>10.64</td>\n",
       "      <td>20.51</td>\n",
       "    </tr>\n",
       "    <tr>\n",
       "      <th>22</th>\n",
       "      <td>10.50</td>\n",
       "      <td>20.99</td>\n",
       "    </tr>\n",
       "    <tr>\n",
       "      <th>23</th>\n",
       "      <td>8.07</td>\n",
       "      <td>15.15</td>\n",
       "    </tr>\n",
       "    <tr>\n",
       "      <th>24</th>\n",
       "      <td>13.01</td>\n",
       "      <td>24.42</td>\n",
       "    </tr>\n",
       "    <tr>\n",
       "      <th>25</th>\n",
       "      <td>10.43</td>\n",
       "      <td>22.73</td>\n",
       "    </tr>\n",
       "    <tr>\n",
       "      <th>26</th>\n",
       "      <td>11.47</td>\n",
       "      <td>23.50</td>\n",
       "    </tr>\n",
       "    <tr>\n",
       "      <th>27</th>\n",
       "      <td>11.18</td>\n",
       "      <td>18.18</td>\n",
       "    </tr>\n",
       "    <tr>\n",
       "      <th>28</th>\n",
       "      <td>10.41</td>\n",
       "      <td>16.37</td>\n",
       "    </tr>\n",
       "    <tr>\n",
       "      <th>29</th>\n",
       "      <td>11.71</td>\n",
       "      <td>18.89</td>\n",
       "    </tr>\n",
       "  </tbody>\n",
       "</table>\n",
       "</div>"
      ],
      "text/plain": [
       "    Control  Experimental\n",
       "0     12.72         23.62\n",
       "1      8.83         15.67\n",
       "2     14.14         23.82\n",
       "3     14.49         15.43\n",
       "4      7.15         22.04\n",
       "5      8.53         23.02\n",
       "6     10.31         19.82\n",
       "7     10.59         17.13\n",
       "8     14.50         20.35\n",
       "9     15.57         28.82\n",
       "10    11.67         22.32\n",
       "11    11.46         20.53\n",
       "12    20.96         21.46\n",
       "13    11.20         16.86\n",
       "14     9.61         19.16\n",
       "15    15.69         15.53\n",
       "16    13.04         19.74\n",
       "17    12.79         15.92\n",
       "18     7.60         17.69\n",
       "19    10.23         20.68\n",
       "20     5.63         19.13\n",
       "21    10.64         20.51\n",
       "22    10.50         20.99\n",
       "23     8.07         15.15\n",
       "24    13.01         24.42\n",
       "25    10.43         22.73\n",
       "26    11.47         23.50\n",
       "27    11.18         18.18\n",
       "28    10.41         16.37\n",
       "29    11.71         18.89"
      ]
     },
     "execution_count": 10,
     "metadata": {},
     "output_type": "execute_result"
    }
   ],
   "source": [
    "# DO NOT CHANGE ANYTHING IN THIS CELL\n",
    "data = np.array([[12.72,  8.83, 14.14, 14.49,  7.15,  8.53, 10.31, 10.59, 14.5 ,\n",
    "        15.57, 11.67, 11.46, 20.96, 11.2 ,  9.61, 15.69, 13.04, 12.79,\n",
    "         7.6 , 10.23,  5.63, 10.64, 10.5 ,  8.07, 13.01, 10.43, 11.47,\n",
    "        11.18, 10.41, 11.71],\n",
    "       [23.62, 15.67, 23.82, 15.43, 22.04, 23.02, 19.82, 17.13, 20.35,\n",
    "        28.82, 22.32, 20.53, 21.46, 16.86, 19.16, 15.53, 19.74, 15.92,\n",
    "        17.69, 20.68, 19.13, 20.51, 20.99, 15.15, 24.42, 22.73, 23.5 ,\n",
    "        18.18, 16.37, 18.89]]).transpose()\n",
    "\n",
    "df = pd.DataFrame(data, columns=[\"Control\", \"Experimental\"])\n",
    "df"
   ]
  },
  {
   "cell_type": "markdown",
   "metadata": {},
   "source": [
    "#### 3.2.1 Show whether there exists a statistically significnat difference between the \"Control\" group and the \"Experimentla group at the $\\alpha = 0.05$ level of significnace using Hypothesis testing (assume $\\sigma = 2.9$) [8%]"
   ]
  },
  {
   "cell_type": "code",
   "execution_count": 11,
   "metadata": {},
   "outputs": [
    {
     "data": {
      "text/plain": [
       "Control         11.471000\n",
       "Experimental    19.982667\n",
       "dtype: float64"
      ]
     },
     "execution_count": 11,
     "metadata": {},
     "output_type": "execute_result"
    }
   ],
   "source": [
    "df.mean()"
   ]
  },
  {
   "cell_type": "markdown",
   "metadata": {},
   "source": [
    "### Hypothesis:\n",
    "\n",
    "$n=30$ and $\\sigma=2.9$\n",
    "\n",
    "$\\mu_c=11.471$ and $\\mu_e=19.982667$\n",
    "\n",
    "$H_0: \\mu_e = 11.471$   \n",
    "$H_a: \\mu_e \\neq 11.471$\n",
    "\n",
    "$\\mu_c$ is Control group mean\n",
    "\n",
    "$\\mu_e$ is Experimental group mean\n",
    "\n",
    "### Computation:\n",
    "\n",
    "$z^*=\\frac{x-\\mu_c}{\\sigma/\\sqrt{n}}=\\frac{19.982667-11.471}{2.9/\\sqrt{30}}= 16.075971845855644$\n",
    "\n",
    "$ P(X=z^*)=2(1-P(X\\leq \\left| z^* \\right|))=1-1=0$\n",
    "\n",
    "* **Which means we reject the $\\mu_e = \\mu_c = 11.471$(reject no significant difference between the Conrtol group and Experimental group**"
   ]
  },
  {
   "cell_type": "code",
   "execution_count": 19,
   "metadata": {},
   "outputs": [
    {
     "data": {
      "text/plain": [
       "16.075971845855644"
      ]
     },
     "execution_count": 19,
     "metadata": {},
     "output_type": "execute_result"
    }
   ],
   "source": [
    "import math\n",
    "(df[\"Experimental\"].mean()-df[\"Control\"].mean())/(2.9/math.sqrt(30))"
   ]
  },
  {
   "cell_type": "markdown",
   "metadata": {},
   "source": [
    "#### 3.2.2 Now, confirm the above result of your Hypothesis test using Confidence intervals [total of 2%]"
   ]
  },
  {
   "cell_type": "markdown",
   "metadata": {},
   "source": [
    "$x_e=19.982667$ , $\\sigma=2.9$ and $n=30$\n",
    "\n",
    "$z_\\frac{\\alpha}{2}=z_\\frac{0.05}{2}=2.82$\n",
    "\n",
    "### Computation:\n",
    "\n",
    "$x_e\\pm z\\frac{\\sigma}{\\sqrt{n}}=19.982667\\pm 2.82\\times \\frac{2.9}{\\sqrt{30}}$\n",
    "\n",
    "$19.982667\\pm 0.529465\\Rightarrow \\left[19.453202,20.512132\\right]$\n",
    "\n",
    "* **Observe that the CI does not catain the assumed experimental group mean $\\mu_e = 11.471$**"
   ]
  },
  {
   "cell_type": "markdown",
   "metadata": {},
   "source": [
    "## Additional Question [BONUS]"
   ]
  },
  {
   "cell_type": "markdown",
   "metadata": {},
   "source": [
    "*All regular homework questions must be completed to receive any bonus points.*"
   ]
  },
  {
   "cell_type": "markdown",
   "metadata": {},
   "source": [
    "#### 4.1 Bayes theorem [total of 5% extra]\n",
    "Emma has lost her watch in either classroom $A$ (with a probability $0.4$) or in classroom $B$ (with a probability $0.6$). On any given break, if the watch is in $A$ and Emma spends the break searching for it in $A$, the conditional probability that she will find the watch during that break is $0.25$. Similarly, if the watch is in $B$ and Emma spends a break looking for it there, the conditional probability that she will find the watch during that break is $0.15$. The watch cannot be moved from one classroom to the other. Emma can search only during the break between classes, and she can move from one classroom to the other only during classes.\n",
    "\n",
    "1. In which classroom should Emma look to maximize the probability that she finds her watch on the first\n",
    "    break of the search?\n",
    "2. Given that Emma looked in $A$ during the first break but didn’t find her watch, what is the probability\n",
    "    that the watch is in $A$?\n",
    "3. If Emma flips a fair coin to determine where to look during the first break and finds the watch during\n",
    "    the first break, what is the probability that she looked in $A$?\n",
    "4. If the watch is not stolen and not found by the Nth break of the search, it will be stolen that break\n",
    "    with probability $\\frac{N}{N+2}$. Emma has decided to look in $A$ during the first two breaks. What is the\n",
    "    probability that she will find her watch for the first time during the second break?\n",
    "    \n",
    "##### Refresher:\n",
    "* **Law of total probability** $$P(A) = \\sum_{n}{P(A|B_{n}) P(B_{n})}$$\n",
    "* **Bayes theorem** - $$P(B|A) = \\frac{P(A|B) P(B)}{P(A)}$$"
   ]
  },
  {
   "cell_type": "markdown",
   "metadata": {},
   "source": [
    "**Type your answer in this cell**\n",
    "\n",
    "Use $\\LaTeX$ where appropriate"
   ]
  },
  {
   "cell_type": "markdown",
   "metadata": {},
   "source": [
    "#### 4.2 Kaggle exploratory data analysis [total of 10% extra]"
   ]
  },
  {
   "cell_type": "markdown",
   "metadata": {},
   "source": [
    "This is more of an open-ended question related to the on-going [Kaggle](https://www.kaggle.com/) competition: [Elo Merchant Category Recommendation](https://www.kaggle.com/c/elo-merchant-category-recommendation). In order to get the extra credit you need to **either**:\n",
    "\n",
    "* Download the [data](https://www.kaggle.com/c/elo-merchant-category-recommendation/data), create a new Jupyter Notebook (outside of this one) and perform an exploratory data analysis of your own. Your submission will then be the **.ipynb file** with EDA of the competition data.\n",
    "* Create a [Kaggle kernel](https://www.kaggle.com/c/elo-merchant-category-recommendation/kernels) (i.e. a Jupyter notebook that runs on Kaggle's infrastructure). Your submission will then be the **URL** to the Kaggle kernel.\n",
    "\n",
    "Feel free look for inspiration in other Kaggle kernels, **however do not copy/paste any code without citing the source.** If you do copy a piece of code without the appropriate resource citing, you will be deducted 1 point. In order to receive the extra credit, at least 50% of the notebook should be your own work. This question will be graded on a continuous scale, the more extensive your analysis, the more points will be attributed."
   ]
  }
 ],
 "metadata": {
  "kernelspec": {
   "display_name": "Python 3",
   "language": "python",
   "name": "python3"
  },
  "language_info": {
   "codemirror_mode": {
    "name": "ipython",
    "version": 3
   },
   "file_extension": ".py",
   "mimetype": "text/x-python",
   "name": "python",
   "nbconvert_exporter": "python",
   "pygments_lexer": "ipython3",
   "version": "3.7.1"
  }
 },
 "nbformat": 4,
 "nbformat_minor": 2
}
